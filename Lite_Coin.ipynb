{
 "cells": [
  {
   "attachments": {},
   "cell_type": "markdown",
   "metadata": {},
   "source": [
    "Importing Libraries"
   ]
  },
  {
   "cell_type": "code",
   "execution_count": 1,
   "metadata": {},
   "outputs": [],
   "source": [
    "import pandas as pd\n",
    "import numpy as np\n",
    "import seaborn as sns\n",
    "from sklearn.model_selection import train_test_split\n",
    "import matplotlib.pyplot as plt\n",
    "from sklearn.linear_model import LinearRegression\n",
    "from sklearn.metrics import r2_score, mean_absolute_error,mean_squared_error\n",
    "from sklearn.tree import DecisionTreeRegressor\n",
    "from sklearn import metrics\n",
    "from sklearn.svm import SVR\n",
    "import pickle\n",
    "from sklearn.metrics import roc_auc_score\n",
    "from sklearn.ensemble import RandomForestRegressor"
   ]
  },
  {
   "attachments": {},
   "cell_type": "markdown",
   "metadata": {},
   "source": [
    "Importing Dataset"
   ]
  },
  {
   "cell_type": "code",
   "execution_count": 2,
   "metadata": {},
   "outputs": [
    {
     "data": {
      "text/html": [
       "<div>\n",
       "<style scoped>\n",
       "    .dataframe tbody tr th:only-of-type {\n",
       "        vertical-align: middle;\n",
       "    }\n",
       "\n",
       "    .dataframe tbody tr th {\n",
       "        vertical-align: top;\n",
       "    }\n",
       "\n",
       "    .dataframe thead th {\n",
       "        text-align: right;\n",
       "    }\n",
       "</style>\n",
       "<table border=\"1\" class=\"dataframe\">\n",
       "  <thead>\n",
       "    <tr style=\"text-align: right;\">\n",
       "      <th></th>\n",
       "      <th>SNo</th>\n",
       "      <th>Name</th>\n",
       "      <th>Symbol</th>\n",
       "      <th>Date</th>\n",
       "      <th>High</th>\n",
       "      <th>Low</th>\n",
       "      <th>Open</th>\n",
       "      <th>Close</th>\n",
       "      <th>Volume</th>\n",
       "      <th>Marketcap</th>\n",
       "    </tr>\n",
       "  </thead>\n",
       "  <tbody>\n",
       "    <tr>\n",
       "      <th>0</th>\n",
       "      <td>1</td>\n",
       "      <td>Litecoin</td>\n",
       "      <td>LTC</td>\n",
       "      <td>2013-04-29 23:59:59</td>\n",
       "      <td>4.57360</td>\n",
       "      <td>4.22564</td>\n",
       "      <td>4.36676</td>\n",
       "      <td>4.38390</td>\n",
       "      <td>0.0</td>\n",
       "      <td>7.538896e+07</td>\n",
       "    </tr>\n",
       "    <tr>\n",
       "      <th>1</th>\n",
       "      <td>2</td>\n",
       "      <td>Litecoin</td>\n",
       "      <td>LTC</td>\n",
       "      <td>2013-04-30 23:59:59</td>\n",
       "      <td>4.57238</td>\n",
       "      <td>4.16896</td>\n",
       "      <td>4.40352</td>\n",
       "      <td>4.29649</td>\n",
       "      <td>0.0</td>\n",
       "      <td>7.402092e+07</td>\n",
       "    </tr>\n",
       "    <tr>\n",
       "      <th>2</th>\n",
       "      <td>3</td>\n",
       "      <td>Litecoin</td>\n",
       "      <td>LTC</td>\n",
       "      <td>2013-05-01 23:59:59</td>\n",
       "      <td>4.35686</td>\n",
       "      <td>3.52029</td>\n",
       "      <td>4.28954</td>\n",
       "      <td>3.80101</td>\n",
       "      <td>0.0</td>\n",
       "      <td>6.560460e+07</td>\n",
       "    </tr>\n",
       "    <tr>\n",
       "      <th>3</th>\n",
       "      <td>4</td>\n",
       "      <td>Litecoin</td>\n",
       "      <td>LTC</td>\n",
       "      <td>2013-05-02 23:59:59</td>\n",
       "      <td>4.03930</td>\n",
       "      <td>3.00717</td>\n",
       "      <td>3.78002</td>\n",
       "      <td>3.37198</td>\n",
       "      <td>0.0</td>\n",
       "      <td>5.828798e+07</td>\n",
       "    </tr>\n",
       "    <tr>\n",
       "      <th>4</th>\n",
       "      <td>5</td>\n",
       "      <td>Litecoin</td>\n",
       "      <td>LTC</td>\n",
       "      <td>2013-05-03 23:59:59</td>\n",
       "      <td>3.45361</td>\n",
       "      <td>2.39594</td>\n",
       "      <td>3.39044</td>\n",
       "      <td>3.04491</td>\n",
       "      <td>0.0</td>\n",
       "      <td>5.269485e+07</td>\n",
       "    </tr>\n",
       "  </tbody>\n",
       "</table>\n",
       "</div>"
      ],
      "text/plain": [
       "   SNo      Name Symbol                 Date     High      Low     Open  \\\n",
       "0    1  Litecoin    LTC  2013-04-29 23:59:59  4.57360  4.22564  4.36676   \n",
       "1    2  Litecoin    LTC  2013-04-30 23:59:59  4.57238  4.16896  4.40352   \n",
       "2    3  Litecoin    LTC  2013-05-01 23:59:59  4.35686  3.52029  4.28954   \n",
       "3    4  Litecoin    LTC  2013-05-02 23:59:59  4.03930  3.00717  3.78002   \n",
       "4    5  Litecoin    LTC  2013-05-03 23:59:59  3.45361  2.39594  3.39044   \n",
       "\n",
       "     Close  Volume     Marketcap  \n",
       "0  4.38390     0.0  7.538896e+07  \n",
       "1  4.29649     0.0  7.402092e+07  \n",
       "2  3.80101     0.0  6.560460e+07  \n",
       "3  3.37198     0.0  5.828798e+07  \n",
       "4  3.04491     0.0  5.269485e+07  "
      ]
     },
     "execution_count": 2,
     "metadata": {},
     "output_type": "execute_result"
    }
   ],
   "source": [
    "df = pd.read_csv(\"coin_Litecoin.csv\")\n",
    "df.head()"
   ]
  },
  {
   "cell_type": "code",
   "execution_count": 3,
   "metadata": {},
   "outputs": [
    {
     "data": {
      "text/plain": [
       "(2991, 10)"
      ]
     },
     "execution_count": 3,
     "metadata": {},
     "output_type": "execute_result"
    }
   ],
   "source": [
    "df.shape"
   ]
  },
  {
   "attachments": {},
   "cell_type": "markdown",
   "metadata": {},
   "source": [
    "From this, we got to know that there are 2991 rows of data available and for each row, we have 10 different features or columns."
   ]
  },
  {
   "cell_type": "code",
   "execution_count": 4,
   "metadata": {},
   "outputs": [
    {
     "data": {
      "text/plain": [
       "SNo            int64\n",
       "Name          object\n",
       "Symbol        object\n",
       "Date          object\n",
       "High         float64\n",
       "Low          float64\n",
       "Open         float64\n",
       "Close        float64\n",
       "Volume       float64\n",
       "Marketcap    float64\n",
       "dtype: object"
      ]
     },
     "execution_count": 4,
     "metadata": {},
     "output_type": "execute_result"
    }
   ],
   "source": [
    "df.dtypes"
   ]
  },
  {
   "attachments": {},
   "cell_type": "markdown",
   "metadata": {},
   "source": [
    "From this, we got to know the datatype of each column"
   ]
  },
  {
   "cell_type": "code",
   "execution_count": 5,
   "metadata": {},
   "outputs": [
    {
     "data": {
      "text/html": [
       "<div>\n",
       "<style scoped>\n",
       "    .dataframe tbody tr th:only-of-type {\n",
       "        vertical-align: middle;\n",
       "    }\n",
       "\n",
       "    .dataframe tbody tr th {\n",
       "        vertical-align: top;\n",
       "    }\n",
       "\n",
       "    .dataframe thead th {\n",
       "        text-align: right;\n",
       "    }\n",
       "</style>\n",
       "<table border=\"1\" class=\"dataframe\">\n",
       "  <thead>\n",
       "    <tr style=\"text-align: right;\">\n",
       "      <th></th>\n",
       "      <th>SNo</th>\n",
       "      <th>High</th>\n",
       "      <th>Low</th>\n",
       "      <th>Open</th>\n",
       "      <th>Close</th>\n",
       "      <th>Volume</th>\n",
       "      <th>Marketcap</th>\n",
       "    </tr>\n",
       "  </thead>\n",
       "  <tbody>\n",
       "    <tr>\n",
       "      <th>count</th>\n",
       "      <td>2991.000000</td>\n",
       "      <td>2991.000000</td>\n",
       "      <td>2991.000000</td>\n",
       "      <td>2991.000000</td>\n",
       "      <td>2991.000000</td>\n",
       "      <td>2.991000e+03</td>\n",
       "      <td>2.991000e+03</td>\n",
       "    </tr>\n",
       "    <tr>\n",
       "      <th>mean</th>\n",
       "      <td>1496.000000</td>\n",
       "      <td>51.344396</td>\n",
       "      <td>46.931226</td>\n",
       "      <td>49.247365</td>\n",
       "      <td>49.279008</td>\n",
       "      <td>1.284851e+09</td>\n",
       "      <td>2.934139e+09</td>\n",
       "    </tr>\n",
       "    <tr>\n",
       "      <th>std</th>\n",
       "      <td>863.571653</td>\n",
       "      <td>66.572301</td>\n",
       "      <td>59.474423</td>\n",
       "      <td>63.256275</td>\n",
       "      <td>63.240464</td>\n",
       "      <td>2.247871e+09</td>\n",
       "      <td>3.964279e+09</td>\n",
       "    </tr>\n",
       "    <tr>\n",
       "      <th>min</th>\n",
       "      <td>1.000000</td>\n",
       "      <td>1.344810</td>\n",
       "      <td>1.113740</td>\n",
       "      <td>1.153240</td>\n",
       "      <td>1.157010</td>\n",
       "      <td>0.000000e+00</td>\n",
       "      <td>3.789242e+07</td>\n",
       "    </tr>\n",
       "    <tr>\n",
       "      <th>25%</th>\n",
       "      <td>748.500000</td>\n",
       "      <td>3.841130</td>\n",
       "      <td>3.730025</td>\n",
       "      <td>3.792325</td>\n",
       "      <td>3.794135</td>\n",
       "      <td>2.242845e+06</td>\n",
       "      <td>1.614311e+08</td>\n",
       "    </tr>\n",
       "    <tr>\n",
       "      <th>50%</th>\n",
       "      <td>1496.000000</td>\n",
       "      <td>31.386569</td>\n",
       "      <td>27.855200</td>\n",
       "      <td>29.737400</td>\n",
       "      <td>29.900200</td>\n",
       "      <td>1.158300e+08</td>\n",
       "      <td>1.477191e+09</td>\n",
       "    </tr>\n",
       "    <tr>\n",
       "      <th>75%</th>\n",
       "      <td>2243.500000</td>\n",
       "      <td>64.241222</td>\n",
       "      <td>60.338469</td>\n",
       "      <td>61.976711</td>\n",
       "      <td>62.025043</td>\n",
       "      <td>2.108696e+09</td>\n",
       "      <td>3.854304e+09</td>\n",
       "    </tr>\n",
       "    <tr>\n",
       "      <th>max</th>\n",
       "      <td>2991.000000</td>\n",
       "      <td>412.960141</td>\n",
       "      <td>345.298839</td>\n",
       "      <td>387.869178</td>\n",
       "      <td>386.450779</td>\n",
       "      <td>1.799426e+10</td>\n",
       "      <td>2.579652e+10</td>\n",
       "    </tr>\n",
       "  </tbody>\n",
       "</table>\n",
       "</div>"
      ],
      "text/plain": [
       "               SNo         High          Low         Open        Close  \\\n",
       "count  2991.000000  2991.000000  2991.000000  2991.000000  2991.000000   \n",
       "mean   1496.000000    51.344396    46.931226    49.247365    49.279008   \n",
       "std     863.571653    66.572301    59.474423    63.256275    63.240464   \n",
       "min       1.000000     1.344810     1.113740     1.153240     1.157010   \n",
       "25%     748.500000     3.841130     3.730025     3.792325     3.794135   \n",
       "50%    1496.000000    31.386569    27.855200    29.737400    29.900200   \n",
       "75%    2243.500000    64.241222    60.338469    61.976711    62.025043   \n",
       "max    2991.000000   412.960141   345.298839   387.869178   386.450779   \n",
       "\n",
       "             Volume     Marketcap  \n",
       "count  2.991000e+03  2.991000e+03  \n",
       "mean   1.284851e+09  2.934139e+09  \n",
       "std    2.247871e+09  3.964279e+09  \n",
       "min    0.000000e+00  3.789242e+07  \n",
       "25%    2.242845e+06  1.614311e+08  \n",
       "50%    1.158300e+08  1.477191e+09  \n",
       "75%    2.108696e+09  3.854304e+09  \n",
       "max    1.799426e+10  2.579652e+10  "
      ]
     },
     "execution_count": 5,
     "metadata": {},
     "output_type": "execute_result"
    }
   ],
   "source": [
    "df.describe()"
   ]
  },
  {
   "attachments": {},
   "cell_type": "markdown",
   "metadata": {},
   "source": [
    "The above output generates statistical information for each numeric column:\n",
    "\n",
    "count: number of non-missing values,\n",
    "mean: arithmetic mean (average),\n",
    "std: standard deviation,\n",
    "min: minimum value,\n",
    "25%: first quartile (25th perce,ntile),\n",
    "50%: median (50th percentile),\n",
    "75%: third quartile (75th perce,ntile),\n",
    "max: maximum value"
   ]
  },
  {
   "attachments": {},
   "cell_type": "markdown",
   "metadata": {},
   "source": [
    "DATA PRE-PROCESSING"
   ]
  },
  {
   "cell_type": "code",
   "execution_count": 6,
   "metadata": {},
   "outputs": [
    {
     "data": {
      "text/plain": [
       "SNo          False\n",
       "Name         False\n",
       "Symbol       False\n",
       "Date         False\n",
       "High         False\n",
       "Low          False\n",
       "Open         False\n",
       "Close        False\n",
       "Volume       False\n",
       "Marketcap    False\n",
       "dtype: bool"
      ]
     },
     "execution_count": 6,
     "metadata": {},
     "output_type": "execute_result"
    }
   ],
   "source": [
    "df.isnull().any()"
   ]
  },
  {
   "attachments": {},
   "cell_type": "markdown",
   "metadata": {},
   "source": [
    "As from above output it is shown that the data has zero null values. "
   ]
  },
  {
   "cell_type": "code",
   "execution_count": 3,
   "metadata": {},
   "outputs": [
    {
     "data": {
      "text/html": [
       "<div>\n",
       "<style scoped>\n",
       "    .dataframe tbody tr th:only-of-type {\n",
       "        vertical-align: middle;\n",
       "    }\n",
       "\n",
       "    .dataframe tbody tr th {\n",
       "        vertical-align: top;\n",
       "    }\n",
       "\n",
       "    .dataframe thead th {\n",
       "        text-align: right;\n",
       "    }\n",
       "</style>\n",
       "<table border=\"1\" class=\"dataframe\">\n",
       "  <thead>\n",
       "    <tr style=\"text-align: right;\">\n",
       "      <th></th>\n",
       "      <th>Date</th>\n",
       "      <th>High</th>\n",
       "      <th>Low</th>\n",
       "      <th>Open</th>\n",
       "      <th>Close</th>\n",
       "      <th>Volume</th>\n",
       "      <th>Marketcap</th>\n",
       "    </tr>\n",
       "  </thead>\n",
       "  <tbody>\n",
       "    <tr>\n",
       "      <th>0</th>\n",
       "      <td>2013-04-29 23:59:59</td>\n",
       "      <td>4.57360</td>\n",
       "      <td>4.22564</td>\n",
       "      <td>4.36676</td>\n",
       "      <td>4.38390</td>\n",
       "      <td>0.0</td>\n",
       "      <td>7.538896e+07</td>\n",
       "    </tr>\n",
       "    <tr>\n",
       "      <th>1</th>\n",
       "      <td>2013-04-30 23:59:59</td>\n",
       "      <td>4.57238</td>\n",
       "      <td>4.16896</td>\n",
       "      <td>4.40352</td>\n",
       "      <td>4.29649</td>\n",
       "      <td>0.0</td>\n",
       "      <td>7.402092e+07</td>\n",
       "    </tr>\n",
       "    <tr>\n",
       "      <th>2</th>\n",
       "      <td>2013-05-01 23:59:59</td>\n",
       "      <td>4.35686</td>\n",
       "      <td>3.52029</td>\n",
       "      <td>4.28954</td>\n",
       "      <td>3.80101</td>\n",
       "      <td>0.0</td>\n",
       "      <td>6.560460e+07</td>\n",
       "    </tr>\n",
       "    <tr>\n",
       "      <th>3</th>\n",
       "      <td>2013-05-02 23:59:59</td>\n",
       "      <td>4.03930</td>\n",
       "      <td>3.00717</td>\n",
       "      <td>3.78002</td>\n",
       "      <td>3.37198</td>\n",
       "      <td>0.0</td>\n",
       "      <td>5.828798e+07</td>\n",
       "    </tr>\n",
       "    <tr>\n",
       "      <th>4</th>\n",
       "      <td>2013-05-03 23:59:59</td>\n",
       "      <td>3.45361</td>\n",
       "      <td>2.39594</td>\n",
       "      <td>3.39044</td>\n",
       "      <td>3.04491</td>\n",
       "      <td>0.0</td>\n",
       "      <td>5.269485e+07</td>\n",
       "    </tr>\n",
       "  </tbody>\n",
       "</table>\n",
       "</div>"
      ],
      "text/plain": [
       "                  Date     High      Low     Open    Close  Volume  \\\n",
       "0  2013-04-29 23:59:59  4.57360  4.22564  4.36676  4.38390     0.0   \n",
       "1  2013-04-30 23:59:59  4.57238  4.16896  4.40352  4.29649     0.0   \n",
       "2  2013-05-01 23:59:59  4.35686  3.52029  4.28954  3.80101     0.0   \n",
       "3  2013-05-02 23:59:59  4.03930  3.00717  3.78002  3.37198     0.0   \n",
       "4  2013-05-03 23:59:59  3.45361  2.39594  3.39044  3.04491     0.0   \n",
       "\n",
       "      Marketcap  \n",
       "0  7.538896e+07  \n",
       "1  7.402092e+07  \n",
       "2  6.560460e+07  \n",
       "3  5.828798e+07  \n",
       "4  5.269485e+07  "
      ]
     },
     "execution_count": 3,
     "metadata": {},
     "output_type": "execute_result"
    }
   ],
   "source": [
    "df.drop([\"SNo\", \"Name\", \"Symbol\"],axis = 1, inplace= True)\n",
    "df.head()"
   ]
  },
  {
   "attachments": {},
   "cell_type": "markdown",
   "metadata": {},
   "source": [
    "In the above step we dropped unnecessary columns."
   ]
  },
  {
   "attachments": {},
   "cell_type": "markdown",
   "metadata": {},
   "source": [
    "FEATURE ENGINEERING AND DATA VISUALIZATION"
   ]
  },
  {
   "cell_type": "code",
   "execution_count": 4,
   "metadata": {},
   "outputs": [
    {
     "data": {
      "text/html": [
       "<div>\n",
       "<style scoped>\n",
       "    .dataframe tbody tr th:only-of-type {\n",
       "        vertical-align: middle;\n",
       "    }\n",
       "\n",
       "    .dataframe tbody tr th {\n",
       "        vertical-align: top;\n",
       "    }\n",
       "\n",
       "    .dataframe thead th {\n",
       "        text-align: right;\n",
       "    }\n",
       "</style>\n",
       "<table border=\"1\" class=\"dataframe\">\n",
       "  <thead>\n",
       "    <tr style=\"text-align: right;\">\n",
       "      <th></th>\n",
       "      <th>Date</th>\n",
       "      <th>High</th>\n",
       "      <th>Low</th>\n",
       "      <th>Open</th>\n",
       "      <th>Close</th>\n",
       "      <th>Volume</th>\n",
       "      <th>Marketcap</th>\n",
       "    </tr>\n",
       "  </thead>\n",
       "  <tbody>\n",
       "    <tr>\n",
       "      <th>0</th>\n",
       "      <td>2013-04-29</td>\n",
       "      <td>4.57360</td>\n",
       "      <td>4.22564</td>\n",
       "      <td>4.36676</td>\n",
       "      <td>4.38390</td>\n",
       "      <td>0.0</td>\n",
       "      <td>7.538896e+07</td>\n",
       "    </tr>\n",
       "    <tr>\n",
       "      <th>1</th>\n",
       "      <td>2013-04-30</td>\n",
       "      <td>4.57238</td>\n",
       "      <td>4.16896</td>\n",
       "      <td>4.40352</td>\n",
       "      <td>4.29649</td>\n",
       "      <td>0.0</td>\n",
       "      <td>7.402092e+07</td>\n",
       "    </tr>\n",
       "    <tr>\n",
       "      <th>2</th>\n",
       "      <td>2013-05-01</td>\n",
       "      <td>4.35686</td>\n",
       "      <td>3.52029</td>\n",
       "      <td>4.28954</td>\n",
       "      <td>3.80101</td>\n",
       "      <td>0.0</td>\n",
       "      <td>6.560460e+07</td>\n",
       "    </tr>\n",
       "    <tr>\n",
       "      <th>3</th>\n",
       "      <td>2013-05-02</td>\n",
       "      <td>4.03930</td>\n",
       "      <td>3.00717</td>\n",
       "      <td>3.78002</td>\n",
       "      <td>3.37198</td>\n",
       "      <td>0.0</td>\n",
       "      <td>5.828798e+07</td>\n",
       "    </tr>\n",
       "    <tr>\n",
       "      <th>4</th>\n",
       "      <td>2013-05-03</td>\n",
       "      <td>3.45361</td>\n",
       "      <td>2.39594</td>\n",
       "      <td>3.39044</td>\n",
       "      <td>3.04491</td>\n",
       "      <td>0.0</td>\n",
       "      <td>5.269485e+07</td>\n",
       "    </tr>\n",
       "  </tbody>\n",
       "</table>\n",
       "</div>"
      ],
      "text/plain": [
       "         Date     High      Low     Open    Close  Volume     Marketcap\n",
       "0  2013-04-29  4.57360  4.22564  4.36676  4.38390     0.0  7.538896e+07\n",
       "1  2013-04-30  4.57238  4.16896  4.40352  4.29649     0.0  7.402092e+07\n",
       "2  2013-05-01  4.35686  3.52029  4.28954  3.80101     0.0  6.560460e+07\n",
       "3  2013-05-02  4.03930  3.00717  3.78002  3.37198     0.0  5.828798e+07\n",
       "4  2013-05-03  3.45361  2.39594  3.39044  3.04491     0.0  5.269485e+07"
      ]
     },
     "execution_count": 4,
     "metadata": {},
     "output_type": "execute_result"
    }
   ],
   "source": [
    "df[[\"Date\"]]= df.Date.apply(lambda x: pd.Series(str(x).split(\" \")[:1]))\n",
    "df.head()"
   ]
  },
  {
   "attachments": {},
   "cell_type": "markdown",
   "metadata": {},
   "source": [
    "In the above step we updated the date column in YY-MM-DD format."
   ]
  },
  {
   "cell_type": "code",
   "execution_count": 5,
   "metadata": {},
   "outputs": [
    {
     "data": {
      "text/html": [
       "<div>\n",
       "<style scoped>\n",
       "    .dataframe tbody tr th:only-of-type {\n",
       "        vertical-align: middle;\n",
       "    }\n",
       "\n",
       "    .dataframe tbody tr th {\n",
       "        vertical-align: top;\n",
       "    }\n",
       "\n",
       "    .dataframe thead th {\n",
       "        text-align: right;\n",
       "    }\n",
       "</style>\n",
       "<table border=\"1\" class=\"dataframe\">\n",
       "  <thead>\n",
       "    <tr style=\"text-align: right;\">\n",
       "      <th></th>\n",
       "      <th>Date</th>\n",
       "      <th>High</th>\n",
       "      <th>Low</th>\n",
       "      <th>Open</th>\n",
       "      <th>Close</th>\n",
       "      <th>Volume</th>\n",
       "      <th>Marketcap</th>\n",
       "      <th>Year</th>\n",
       "      <th>Month</th>\n",
       "    </tr>\n",
       "  </thead>\n",
       "  <tbody>\n",
       "    <tr>\n",
       "      <th>0</th>\n",
       "      <td>2013-04-29</td>\n",
       "      <td>4.57360</td>\n",
       "      <td>4.22564</td>\n",
       "      <td>4.36676</td>\n",
       "      <td>4.38390</td>\n",
       "      <td>0.0</td>\n",
       "      <td>7.538896e+07</td>\n",
       "      <td>2013</td>\n",
       "      <td>04</td>\n",
       "    </tr>\n",
       "    <tr>\n",
       "      <th>1</th>\n",
       "      <td>2013-04-30</td>\n",
       "      <td>4.57238</td>\n",
       "      <td>4.16896</td>\n",
       "      <td>4.40352</td>\n",
       "      <td>4.29649</td>\n",
       "      <td>0.0</td>\n",
       "      <td>7.402092e+07</td>\n",
       "      <td>2013</td>\n",
       "      <td>04</td>\n",
       "    </tr>\n",
       "    <tr>\n",
       "      <th>2</th>\n",
       "      <td>2013-05-01</td>\n",
       "      <td>4.35686</td>\n",
       "      <td>3.52029</td>\n",
       "      <td>4.28954</td>\n",
       "      <td>3.80101</td>\n",
       "      <td>0.0</td>\n",
       "      <td>6.560460e+07</td>\n",
       "      <td>2013</td>\n",
       "      <td>05</td>\n",
       "    </tr>\n",
       "    <tr>\n",
       "      <th>3</th>\n",
       "      <td>2013-05-02</td>\n",
       "      <td>4.03930</td>\n",
       "      <td>3.00717</td>\n",
       "      <td>3.78002</td>\n",
       "      <td>3.37198</td>\n",
       "      <td>0.0</td>\n",
       "      <td>5.828798e+07</td>\n",
       "      <td>2013</td>\n",
       "      <td>05</td>\n",
       "    </tr>\n",
       "    <tr>\n",
       "      <th>4</th>\n",
       "      <td>2013-05-03</td>\n",
       "      <td>3.45361</td>\n",
       "      <td>2.39594</td>\n",
       "      <td>3.39044</td>\n",
       "      <td>3.04491</td>\n",
       "      <td>0.0</td>\n",
       "      <td>5.269485e+07</td>\n",
       "      <td>2013</td>\n",
       "      <td>05</td>\n",
       "    </tr>\n",
       "  </tbody>\n",
       "</table>\n",
       "</div>"
      ],
      "text/plain": [
       "         Date     High      Low     Open    Close  Volume     Marketcap  Year  \\\n",
       "0  2013-04-29  4.57360  4.22564  4.36676  4.38390     0.0  7.538896e+07  2013   \n",
       "1  2013-04-30  4.57238  4.16896  4.40352  4.29649     0.0  7.402092e+07  2013   \n",
       "2  2013-05-01  4.35686  3.52029  4.28954  3.80101     0.0  6.560460e+07  2013   \n",
       "3  2013-05-02  4.03930  3.00717  3.78002  3.37198     0.0  5.828798e+07  2013   \n",
       "4  2013-05-03  3.45361  2.39594  3.39044  3.04491     0.0  5.269485e+07  2013   \n",
       "\n",
       "  Month  \n",
       "0    04  \n",
       "1    04  \n",
       "2    05  \n",
       "3    05  \n",
       "4    05  "
      ]
     },
     "execution_count": 5,
     "metadata": {},
     "output_type": "execute_result"
    }
   ],
   "source": [
    "df[[\"Year\",\"Month\"]]= df.Date.apply(lambda x: pd.Series(str(x).split(\"-\")[:2]))\n",
    "df.head()"
   ]
  },
  {
   "attachments": {},
   "cell_type": "markdown",
   "metadata": {},
   "source": [
    "In the above step we extract two features Year and Month from Date column"
   ]
  },
  {
   "cell_type": "code",
   "execution_count": 6,
   "metadata": {},
   "outputs": [],
   "source": [
    "df.Year = df.Year.astype(int)\n",
    "df.Month = df.Month.astype(int)"
   ]
  },
  {
   "attachments": {},
   "cell_type": "markdown",
   "metadata": {},
   "source": [
    "In the above step we changed the data type of Year and Month column from string to int"
   ]
  },
  {
   "cell_type": "code",
   "execution_count": 12,
   "metadata": {},
   "outputs": [
    {
     "data": {
      "text/plain": [
       "Date          object\n",
       "High         float64\n",
       "Low          float64\n",
       "Open         float64\n",
       "Close        float64\n",
       "Volume       float64\n",
       "Marketcap    float64\n",
       "Year           int32\n",
       "Month          int32\n",
       "dtype: object"
      ]
     },
     "execution_count": 12,
     "metadata": {},
     "output_type": "execute_result"
    }
   ],
   "source": [
    "df.dtypes"
   ]
  },
  {
   "attachments": {},
   "cell_type": "markdown",
   "metadata": {},
   "source": [
    "It is clearly shown that the data types are changed"
   ]
  },
  {
   "attachments": {},
   "cell_type": "markdown",
   "metadata": {},
   "source": [
    "Now, firstly we will analyze the closing price as we need it to perform the prediction."
   ]
  },
  {
   "cell_type": "code",
   "execution_count": 13,
   "metadata": {},
   "outputs": [
    {
     "data": {
      "text/plain": [
       "Text(0.5, 1.0, 'Date vs Close')"
      ]
     },
     "execution_count": 13,
     "metadata": {},
     "output_type": "execute_result"
    },
    {
     "data": {
      "image/png": "[encoded data removed]",
      "text/plain": [
       "<Figure size 2000x700 with 1 Axes>"
      ]
     },
     "metadata": {},
     "output_type": "display_data"
    }
   ],
   "source": [
    "plt.figure(figsize=(20, 7))\n",
    "x = df.groupby('Date')['Close'].mean()\n",
    "x.plot(linewidth=2.5, color='b')\n",
    "plt.xlabel('Date')\n",
    "plt.ylabel('Volume')\n",
    "plt.title(\"Date vs Close\")"
   ]
  },
  {
   "attachments": {},
   "cell_type": "markdown",
   "metadata": {},
   "source": [
    "This plot visualize the daily average closing prices of Litecoin Coin.\n",
    "The prices of the Litecoin stocks are showing an upward trend as depicted by the plot of the closing price of the Litecoin"
   ]
  },
  {
   "cell_type": "code",
   "execution_count": 12,
   "metadata": {},
   "outputs": [
    {
     "data": {
      "text/plain": [
       "[2013, 2014, 2015, 2016, 2017, 2018, 2019, 2020, 2021]"
      ]
     },
     "execution_count": 12,
     "metadata": {},
     "output_type": "execute_result"
    }
   ],
   "source": [
    "Year_Unique = list(df.Year.unique())\n",
    "Year_Unique"
   ]
  },
  {
   "attachments": {},
   "cell_type": "markdown",
   "metadata": {},
   "source": [
    "We have created a list of unique categories in the Year column and then converted the list into numpy array. "
   ]
  },
  {
   "cell_type": "code",
   "execution_count": 13,
   "metadata": {},
   "outputs": [
    {
     "data": {
      "text/plain": [
       "array([2013, 2014, 2015, 2016, 2017, 2018, 2019, 2020, 2021])"
      ]
     },
     "execution_count": 13,
     "metadata": {},
     "output_type": "execute_result"
    }
   ],
   "source": [
    "lst = list(df.Year.unique())\n",
    "Unique_Year = np.array(lst)\n",
    "Unique_Year"
   ]
  },
  {
   "cell_type": "code",
   "execution_count": 14,
   "metadata": {},
   "outputs": [
    {
     "data": {
      "text/plain": [
       "array([[2013, 2014, 2015],\n",
       "       [2016, 2017, 2018],\n",
       "       [2019, 2020, 2021]])"
      ]
     },
     "execution_count": 14,
     "metadata": {},
     "output_type": "execute_result"
    }
   ],
   "source": [
    "Unique_Year = Unique_Year.reshape(3,3)\n",
    "Unique_Year"
   ]
  },
  {
   "attachments": {},
   "cell_type": "markdown",
   "metadata": {},
   "source": [
    "In the above code we reshape the array so that we can easily plot the lineplots for visualization."
   ]
  },
  {
   "cell_type": "code",
   "execution_count": 15,
   "metadata": {},
   "outputs": [
    {
     "data": {
      "image/png": "[encoded data removed]",
      "text/plain": [
       "<Figure size 640x480 with 9 Axes>"
      ]
     },
     "metadata": {},
     "output_type": "display_data"
    }
   ],
   "source": [
    "fig, axes = plt.subplots(3,3)\n",
    "fig.suptitle(\"3 rows * 3 columnx axes\")\n",
    "\n",
    "for row in range(0,3):\n",
    "    for col in range(0, 3):\n",
    "        # print(Unique_Year[row, col])\n",
    "        # plt.subplots_adjust(left = 0.1, bottom= 0.1, right= 0.9, top= 1, wspace=0.4, hspace=0.4)\n",
    "        # fig.ax = plt.subplots(2,2, constrained_layout = True)\n",
    "        fig.tight_layout()\n",
    "        sns.lineplot(data = df[df.Year == Unique_Year[row, col]], x = \"Open\", y = \"Close\", ax = axes[row, col])\n",
    "        axes[row, col].set_title(f'Year {Unique_Year[row, col]}')\n",
    "        # plt.rcParams[\"Figure.figsize\"] = [7.50,3.50]\n"
   ]
  },
  {
   "attachments": {},
   "cell_type": "markdown",
   "metadata": {},
   "source": [
    "The above line plots are showing the relationship between the opening and closing prices of Litecoin. A linear trend between the opening and closing prices of Litecoin (LTC) on a line plot indicates that there is a systematic relationship between these two variables.\n",
    "The line slopes upwards from left to right, it suggests that as the opening price increases, the closing price tends to increase as well. "
   ]
  },
  {
   "cell_type": "code",
   "execution_count": 8,
   "metadata": {},
   "outputs": [],
   "source": [
    "features = [\"Open\", \"High\", \"Low\",\"Volume\"]"
   ]
  },
  {
   "cell_type": "code",
   "execution_count": 9,
   "metadata": {},
   "outputs": [
    {
     "name": "stderr",
     "output_type": "stream",
     "text": [
      "C:\\Users\\Preeti\\AppData\\Local\\Temp\\ipykernel_12532\\2880881391.py:3: MatplotlibDeprecationWarning: Auto-removal of overlapping axes is deprecated since 3.6 and will be removed two minor releases later; explicitly call ax.remove() as needed.\n",
      "  plt.subplot(2,2,i+1)\n"
     ]
    },
    {
     "data": {
      "image/png": "[encoded data removed]",
      "text/plain": [
       "<Figure size 2000x1000 with 4 Axes>"
      ]
     },
     "metadata": {},
     "output_type": "display_data"
    }
   ],
   "source": [
    "plt.subplots(figsize=(20,10))\n",
    "for i, col in enumerate(features):\n",
    "  plt.subplot(2,2,i+1)\n",
    "  sns.boxplot(df[col])\n",
    "  plt.title(col)\n",
    "plt.tight_layout()\n",
    "plt.show()"
   ]
  },
  {
   "attachments": {},
   "cell_type": "markdown",
   "metadata": {},
   "source": [
    "The above boxplots help us to visualize the distribution of four features (\"Open\", \"High\", \"Low\" and \"Volume\").\n",
    "There are so many outliers in the data which means that the prices of the Lite Coin have varied hugely in a very short period of time. Let’s check this with the help of a barplot. "
   ]
  },
  {
   "cell_type": "code",
   "execution_count": 7,
   "metadata": {},
   "outputs": [
    {
     "name": "stderr",
     "output_type": "stream",
     "text": [
      "C:\\Users\\Preeti\\AppData\\Local\\Temp\\ipykernel_332\\2566259809.py:1: FutureWarning: The default value of numeric_only in DataFrameGroupBy.mean is deprecated. In a future version, numeric_only will default to False. Either specify numeric_only or select only columns which should be valid for the function.\n",
      "  data_grouped = df.groupby('Year').mean()\n",
      "C:\\Users\\Preeti\\AppData\\Local\\Temp\\ipykernel_332\\2566259809.py:4: MatplotlibDeprecationWarning: Auto-removal of overlapping axes is deprecated since 3.6 and will be removed two minor releases later; explicitly call ax.remove() as needed.\n",
      "  plt.subplot(2,2,i+1)\n"
     ]
    },
    {
     "data": {
      "image/png": "[encoded data removed]",
      "text/plain": [
       "<Figure size 2000x1000 with 4 Axes>"
      ]
     },
     "metadata": {},
     "output_type": "display_data"
    }
   ],
   "source": [
    "data_grouped = df.groupby('Year').mean()\n",
    "plt.subplots(figsize=(20,10))\n",
    "for i, col in enumerate(['Open', 'High', 'Low', 'Volume']):\n",
    "  plt.subplot(2,2,i+1)\n",
    "  data_grouped[col].plot.bar()\n",
    "  plt.title(col)\n",
    "plt.tight_layout()\n",
    "plt.show()"
   ]
  },
  {
   "attachments": {},
   "cell_type": "markdown",
   "metadata": {},
   "source": [
    "Here we can observe why there are so many outliers in the data as the prices of litecoin have exploded in the year 2021. Also the prices of the litecoin shows upwardtrend from year 2017"
   ]
  },
  {
   "attachments": {},
   "cell_type": "markdown",
   "metadata": {},
   "source": [
    "Splitting the data into train and test data."
   ]
  },
  {
   "cell_type": "code",
   "execution_count": 7,
   "metadata": {},
   "outputs": [],
   "source": [
    "x = df[[\"High\",\"Low\",\"Open\", \"Volume\"]]\n",
    "y = df[\"Close\"]\n",
    "x_train, x_test, y_train, y_test = train_test_split(x,y,test_size = 0.30, random_state = 42)"
   ]
  },
  {
   "attachments": {},
   "cell_type": "markdown",
   "metadata": {},
   "source": [
    "x_train consists the features which we are going to use to train the model"
   ]
  },
  {
   "cell_type": "code",
   "execution_count": 15,
   "metadata": {},
   "outputs": [
    {
     "data": {
      "text/html": [
       "<div>\n",
       "<style scoped>\n",
       "    .dataframe tbody tr th:only-of-type {\n",
       "        vertical-align: middle;\n",
       "    }\n",
       "\n",
       "    .dataframe tbody tr th {\n",
       "        vertical-align: top;\n",
       "    }\n",
       "\n",
       "    .dataframe thead th {\n",
       "        text-align: right;\n",
       "    }\n",
       "</style>\n",
       "<table border=\"1\" class=\"dataframe\">\n",
       "  <thead>\n",
       "    <tr style=\"text-align: right;\">\n",
       "      <th></th>\n",
       "      <th>High</th>\n",
       "      <th>Low</th>\n",
       "      <th>Open</th>\n",
       "      <th>Volume</th>\n",
       "    </tr>\n",
       "  </thead>\n",
       "  <tbody>\n",
       "    <tr>\n",
       "      <th>1393</th>\n",
       "      <td>3.784440</td>\n",
       "      <td>3.749620</td>\n",
       "      <td>3.768650</td>\n",
       "      <td>3.128060e+06</td>\n",
       "    </tr>\n",
       "    <tr>\n",
       "      <th>2120</th>\n",
       "      <td>44.649575</td>\n",
       "      <td>42.911342</td>\n",
       "      <td>43.396259</td>\n",
       "      <td>1.089206e+09</td>\n",
       "    </tr>\n",
       "    <tr>\n",
       "      <th>1518</th>\n",
       "      <td>46.215302</td>\n",
       "      <td>43.054298</td>\n",
       "      <td>44.490700</td>\n",
       "      <td>3.543720e+08</td>\n",
       "    </tr>\n",
       "    <tr>\n",
       "      <th>1272</th>\n",
       "      <td>3.913640</td>\n",
       "      <td>3.799350</td>\n",
       "      <td>3.809690</td>\n",
       "      <td>3.858130e+06</td>\n",
       "    </tr>\n",
       "    <tr>\n",
       "      <th>25</th>\n",
       "      <td>3.185500</td>\n",
       "      <td>3.036580</td>\n",
       "      <td>3.170130</td>\n",
       "      <td>0.000000e+00</td>\n",
       "    </tr>\n",
       "  </tbody>\n",
       "</table>\n",
       "</div>"
      ],
      "text/plain": [
       "           High        Low       Open        Volume\n",
       "1393   3.784440   3.749620   3.768650  3.128060e+06\n",
       "2120  44.649575  42.911342  43.396259  1.089206e+09\n",
       "1518  46.215302  43.054298  44.490700  3.543720e+08\n",
       "1272   3.913640   3.799350   3.809690  3.858130e+06\n",
       "25     3.185500   3.036580   3.170130  0.000000e+00"
      ]
     },
     "execution_count": 15,
     "metadata": {},
     "output_type": "execute_result"
    }
   ],
   "source": [
    "x_train.head()"
   ]
  },
  {
   "attachments": {},
   "cell_type": "markdown",
   "metadata": {},
   "source": [
    "x_test consists the features which we are going to used for test the model"
   ]
  },
  {
   "cell_type": "code",
   "execution_count": 16,
   "metadata": {},
   "outputs": [
    {
     "data": {
      "text/html": [
       "<div>\n",
       "<style scoped>\n",
       "    .dataframe tbody tr th:only-of-type {\n",
       "        vertical-align: middle;\n",
       "    }\n",
       "\n",
       "    .dataframe tbody tr th {\n",
       "        vertical-align: top;\n",
       "    }\n",
       "\n",
       "    .dataframe thead th {\n",
       "        text-align: right;\n",
       "    }\n",
       "</style>\n",
       "<table border=\"1\" class=\"dataframe\">\n",
       "  <thead>\n",
       "    <tr style=\"text-align: right;\">\n",
       "      <th></th>\n",
       "      <th>High</th>\n",
       "      <th>Low</th>\n",
       "      <th>Open</th>\n",
       "      <th>Volume</th>\n",
       "    </tr>\n",
       "  </thead>\n",
       "  <tbody>\n",
       "    <tr>\n",
       "      <th>1410</th>\n",
       "      <td>3.844470</td>\n",
       "      <td>3.762810</td>\n",
       "      <td>3.766390</td>\n",
       "      <td>3.092100e+06</td>\n",
       "    </tr>\n",
       "    <tr>\n",
       "      <th>1915</th>\n",
       "      <td>85.218300</td>\n",
       "      <td>82.043999</td>\n",
       "      <td>83.730003</td>\n",
       "      <td>3.587980e+08</td>\n",
       "    </tr>\n",
       "    <tr>\n",
       "      <th>785</th>\n",
       "      <td>3.027770</td>\n",
       "      <td>2.970630</td>\n",
       "      <td>3.027770</td>\n",
       "      <td>2.332310e+06</td>\n",
       "    </tr>\n",
       "    <tr>\n",
       "      <th>2587</th>\n",
       "      <td>45.377191</td>\n",
       "      <td>44.324527</td>\n",
       "      <td>44.776534</td>\n",
       "      <td>2.632198e+09</td>\n",
       "    </tr>\n",
       "    <tr>\n",
       "      <th>324</th>\n",
       "      <td>20.983601</td>\n",
       "      <td>17.225201</td>\n",
       "      <td>19.453400</td>\n",
       "      <td>3.504500e+07</td>\n",
       "    </tr>\n",
       "  </tbody>\n",
       "</table>\n",
       "</div>"
      ],
      "text/plain": [
       "           High        Low       Open        Volume\n",
       "1410   3.844470   3.762810   3.766390  3.092100e+06\n",
       "1915  85.218300  82.043999  83.730003  3.587980e+08\n",
       "785    3.027770   2.970630   3.027770  2.332310e+06\n",
       "2587  45.377191  44.324527  44.776534  2.632198e+09\n",
       "324   20.983601  17.225201  19.453400  3.504500e+07"
      ]
     },
     "execution_count": 16,
     "metadata": {},
     "output_type": "execute_result"
    }
   ],
   "source": [
    "x_test.head()"
   ]
  },
  {
   "attachments": {},
   "cell_type": "markdown",
   "metadata": {},
   "source": [
    "y_train consists the target which we are going to use to train the model"
   ]
  },
  {
   "cell_type": "code",
   "execution_count": 17,
   "metadata": {},
   "outputs": [
    {
     "data": {
      "text/plain": [
       "1393     3.767660\n",
       "2120    43.928369\n",
       "1518    43.924400\n",
       "1272     3.885460\n",
       "25       3.179480\n",
       "Name: Close, dtype: float64"
      ]
     },
     "execution_count": 17,
     "metadata": {},
     "output_type": "execute_result"
    }
   ],
   "source": [
    "y_train.head()"
   ]
  },
  {
   "attachments": {},
   "cell_type": "markdown",
   "metadata": {},
   "source": [
    "y_test consists the target which we are going to use to test the model"
   ]
  },
  {
   "cell_type": "code",
   "execution_count": 18,
   "metadata": {},
   "outputs": [
    {
     "data": {
      "text/plain": [
       "1410     3.838420\n",
       "1915    84.463600\n",
       "785      2.974530\n",
       "2587    44.652465\n",
       "324     17.236900\n",
       "Name: Close, dtype: float64"
      ]
     },
     "execution_count": 18,
     "metadata": {},
     "output_type": "execute_result"
    }
   ],
   "source": [
    "y_test.head()"
   ]
  },
  {
   "attachments": {},
   "cell_type": "markdown",
   "metadata": {},
   "source": [
    "MODEL SELECTION"
   ]
  },
  {
   "attachments": {},
   "cell_type": "markdown",
   "metadata": {},
   "source": [
    "Decision Tree"
   ]
  },
  {
   "cell_type": "code",
   "execution_count": 8,
   "metadata": {},
   "outputs": [
    {
     "data": {
      "text/plain": [
       "array([  3.8236599 ,  84.40614405,   3.02846003,  44.85007694,\n",
       "        17.56550026,   3.8803401 ,  45.0945597 , 161.16107039,\n",
       "        24.86401802,  41.97580954,   3.02619004, 149.93142516,\n",
       "         3.95344996,  98.29239655, 221.06904212,   2.35277009,\n",
       "         3.18608999, 148.48800659,   3.81191993,   1.72744   ,\n",
       "         3.0385201 ,  36.43709163,   3.90769005,  58.7133    ,\n",
       "        24.37759972,  72.96495341, 157.05499268,   3.8854599 ,\n",
       "         3.47904992,  75.98436729,   2.35277009,   3.8822701 ,\n",
       "        64.2696991 ,  55.17369843,  43.56013067,   5.28725004,\n",
       "         5.59326982,  88.6778606 ,  98.29239655,   2.7277801 ,\n",
       "       353.51035114,  67.28563094,   3.47904992,   2.11818004,\n",
       "        52.13850021,   3.30351996,  56.64311208,  79.67799061,\n",
       "        29.68160057,  49.08975339,  69.12387404,   3.08675003,\n",
       "         3.36502004,   2.79471993,  43.92836922,  11.64309978,\n",
       "        15.89500046,  76.46756358,   2.31016994,   4.06311989,\n",
       "         8.56692028, 176.51100159,   7.9762001 ,   4.3905201 ,\n",
       "        58.28884584,  88.6778606 ,  45.3836115 ,   3.49538994,\n",
       "         2.6890099 ,   1.75941002,  59.34352874,  41.96519088,\n",
       "         1.48108006,   1.69549   ,  56.9754007 ,  30.33289651,\n",
       "         3.45077991, 146.30000305,   3.50898004,   3.52857995,\n",
       "        42.86149979,  59.37832486, 141.47731078,  34.45339966,\n",
       "         2.45354009, 139.26800537,   1.75941002,  44.2461161 ,\n",
       "         2.83076   , 136.05700684,  25.36529922,  41.48573393,\n",
       "         4.96420002,   4.51464987,  93.44631755,   4.29649019,\n",
       "         2.13316011,   4.3252902 ,   3.95640993, 180.88600159,\n",
       "        24.86401802,  13.13230038,  48.80476604,  15.20489979,\n",
       "         3.88293004,   3.9698801 ,  50.61197823,  25.44070053,\n",
       "         5.04379988,   2.64989996,  31.31148668,  10.13210011,\n",
       "        85.25710297, 111.59799957,   3.22633004,   3.77721   ,\n",
       "        14.94029999,  45.03985641,  61.3664    ,   3.24889994,\n",
       "         4.30095005,   4.33202982, 161.16107039,  65.22820135,\n",
       "         4.07067013,  45.92351688,   4.33202982,   1.91640997,\n",
       "         4.11353016,  70.82001757,  95.32120147,  69.12387404,\n",
       "         3.90156007,   2.95695996, 210.5465771 ,   1.40290999,\n",
       "        89.7693334 ,  14.27219963,  40.62956151,   7.70184994,\n",
       "        15.70670033, 192.83700562,   3.96774006,   3.80514002,\n",
       "       168.78799438, 232.77400208,  81.88012987, 273.39001465,\n",
       "         3.82148004,   4.07067013,   7.06228018,  16.58690071,\n",
       "        42.31909769,   2.13316011,   3.82456994,   3.83797002,\n",
       "        10.78250027,  10.18099976,   1.66463006, 125.35399628,\n",
       "       102.67231808,  91.62040611,   1.79216003,  86.20189667,\n",
       "       177.76199341,   4.11531019,   8.65816021,  53.49169243,\n",
       "         3.77080011,  52.13850021,   2.56160998,  84.92193788,\n",
       "         1.37847996,  42.84949875,  81.88012987,  34.45339966,\n",
       "        44.6679293 ,   1.91640997,  46.31985866,   3.1171701 ,\n",
       "        46.66800204,  19.90769958,  77.5355    , 176.51100159,\n",
       "         3.59088993,   3.86133003,  53.3628    ,  51.233     ,\n",
       "       152.14408514,   4.07430983,   3.03590989,   3.61956   ,\n",
       "        61.61349869,  47.71117072, 302.60198975,   4.04339981,\n",
       "       111.59799957,  44.30239868,   3.03590989,   2.74766994,\n",
       "         2.7383399 ,   3.85680008,  63.9808    ,  98.40265458,\n",
       "        15.49489975,   1.82931995,  24.09819984,  41.05384226,\n",
       "        89.7693334 ,   2.5655899 ,  79.67799061,  50.6482    ,\n",
       "         2.83076   ,   4.16087008, 153.67900085,   1.63707995,\n",
       "        76.86669922,  41.69996396,  43.4496994 ,  38.873758  ,\n",
       "        79.67799061,  16.58690071,  86.66770172,  89.75266744,\n",
       "       158.59477629,   3.65028   , 159.61700439,   2.6129601 ,\n",
       "         2.78166008,  54.9242    ,  52.13850021,  14.62199974,\n",
       "         5.23463011,   3.88925004,   1.78646004,   3.5211699 ,\n",
       "         3.6182301 ,   3.07723999,  43.3902205 , 144.76400757,\n",
       "         3.88400006,   1.38890004,  52.0989    ,   4.05575991,\n",
       "       113.15499878,  46.57550049,   1.45318997,   2.24830008,\n",
       "       117.37440983,   3.81291008,   2.21294999,   7.79260015,\n",
       "        54.0682    , 159.61700439,   3.80927992, 211.17500305,\n",
       "         7.79260015,   3.80738997,  64.16929626,   3.10090995,\n",
       "       120.32087848,  59.49673729,   3.56888008,   3.30351996,\n",
       "         2.97139001,  47.38380177,   1.96073997,   3.83761001,\n",
       "         3.59887004,   3.11465001,  41.17817255,  52.5413    ,\n",
       "         1.79582   ,   3.02619004,  60.99555   ,  51.3649    ,\n",
       "        96.83465096,  31.93095399,  48.87706842, 276.83352024,\n",
       "        11.19499969, 245.5019989 ,   4.64894009,   3.69892001,\n",
       "        68.15906252,   9.6262598 ,  16.90229988,   2.6904099 ,\n",
       "         3.27837992, 286.59059203,   4.14822006, 182.9806911 ,\n",
       "         3.75974989,  49.80573424,   3.80541992,  59.91398883,\n",
       "        16.58690071, 100.7519989 ,  64.23370361,  42.06653368,\n",
       "         4.27909994, 149.93142516,   2.82649994,  51.73379898,\n",
       "        58.09964767,   3.46967006,  31.31148668,  10.51200008,\n",
       "        78.06383864,  51.6566    ,  16.7343998 ,  94.30966901,\n",
       "        51.73379898,  30.79661755,  57.18903354,  42.67983406,\n",
       "         7.17608023,   3.72241998,   2.92391992,   1.84890997,\n",
       "         3.61452007,  83.62400055, 131.74699402,  44.85007694,\n",
       "        90.56694812,   3.14418006,   5.17665005,   4.60962009,\n",
       "         2.89985991,   3.95344996,   7.17608023,  52.58399963,\n",
       "         3.11187005,  11.48250008,  57.2757    ,  58.46890283,\n",
       "         2.81933999,  47.33549881,  25.36529922,  16.58690071,\n",
       "       188.5256632 , 223.05700684,   3.81914997,   3.18608999,\n",
       "         3.83035994,   3.5211699 , 114.98999786,  45.92351688,\n",
       "       142.43082129,   3.07154012, 200.80642376,   1.73053002,\n",
       "        70.82001757,  31.82341654,  61.84475248,  30.21190071,\n",
       "       314.6210022 , 210.5465771 ,   2.72580004,   5.65151978,\n",
       "         5.04859018,   4.01382017,   3.03590989,  79.7023    ,\n",
       "        54.5958    ,  37.08342904,  73.51652871,   3.44334006,\n",
       "        17.73500061,   4.51464987,  76.86669922,  44.2461161 ,\n",
       "         8.16372013, 103.84929019,   3.76621008,   3.03008008,\n",
       "         2.64989996, 201.25033709, 255.68400574, 182.1144683 ,\n",
       "         3.6502099 ,  41.06529999,   4.64894009,  53.4518    ,\n",
       "        62.35549927, 223.63285928,  41.48573393,  42.84949875,\n",
       "         2.6129601 ,   3.95344996,   4.06861019,  52.3673    ,\n",
       "        33.196667  ,  15.70670033,   3.15026999,  18.5352993 ,\n",
       "         3.30351996,   3.5760901 ,   1.84890997,   2.82268   ,\n",
       "        33.79744705,  36.43709163,   2.84465003,  52.0989    ,\n",
       "        55.68224655,  42.01772107,   1.45318997,  86.66770172,\n",
       "         7.79418993,   3.82638001,   3.97024012,   1.62750006,\n",
       "        10.35700035,   3.86342001,   3.79858994, 155.24200439,\n",
       "         1.95591998,   3.80837989,   3.56750011,  47.09939957,\n",
       "         3.11187005,   2.7525301 ,   3.64955997,  61.1419    ,\n",
       "         1.90270996, 134.50900269,  10.51200008,   3.96774006,\n",
       "         4.8582902 ,   3.02619004,  75.15259112,  31.96209908,\n",
       "         3.36502004,  89.03931421, 122.24911794, 132.34789169,\n",
       "         2.14549994, 177.73199463,   2.82430005,  10.31190014,\n",
       "         1.98214996,   3.23960996,   2.45354009,   2.96314001,\n",
       "       245.36799622,   1.75941002,   3.10783005,  21.46050072,\n",
       "        65.39556986,   3.85680008,   3.74845004,  24.7336998 ,\n",
       "        43.59476228,  34.6266    ,  81.68366667,  57.9298    ,\n",
       "        68.15906252,  48.26715747,   2.39172006,   3.18550992,\n",
       "        56.7131    ,  61.89910685,   6.98062992,  60.38241897,\n",
       "         3.24039006,   2.64989996,   3.24039006,   4.02622986,\n",
       "         3.83035994,  55.14239883, 135.47983606,   4.03829002,\n",
       "        46.23099899, 114.93115993,  41.5848999 ,   7.79418993,\n",
       "        79.32746821, 176.73399353,   3.1825099 ,   4.23323011,\n",
       "        31.96209908,  25.20100021,   3.96774006, 141.47731078,\n",
       "        61.3664    ,  40.77854389,  72.61612214,   1.91640997,\n",
       "         3.5994401 ,  57.13903008,  53.18080139,   3.23471999,\n",
       "        61.3016126 ,   4.03829002,   3.86886001,   3.97024012,\n",
       "       113.15499878,  42.86149979, 138.88376567,  15.61970043,\n",
       "        69.92214325,   2.35277009,  77.26319053,   3.11514997,\n",
       "        59.394     ,   8.95785999,  24.06509972,  18.5352993 ,\n",
       "        61.95471205,   3.81513   ,   2.91602993,  43.32660811,\n",
       "       122.58371529,  98.29239655,   3.22164989,   4.27909994,\n",
       "       149.93142516,  73.2233963 ,   2.7047801 ,  42.56353127,\n",
       "       177.32066097,  78.06383864, 153.6309967 ,   3.24532008,\n",
       "         2.09832001,  42.56353127,  62.35549927, 137.27145938,\n",
       "         3.77098989,  56.64144374, 112.61926672,   3.01435995,\n",
       "        11.19499969, 102.67231808,  73.51652871,   3.84159994,\n",
       "        13.06459999,   3.83958006,   3.8822701 ,   4.03400993,\n",
       "       176.73399353,  45.03985641,   5.07491016,  57.5434    ,\n",
       "        11.22780037,   1.70366001,  45.95294499,  31.65217497,\n",
       "        10.18099976, 253.63446683, 209.75      ,  76.7486542 ,\n",
       "       126.23034575,  42.42586604,  11.27110004,  83.11872986,\n",
       "        71.06020355,  54.0682    ,  73.2233963 ,  47.58933846,\n",
       "         3.92531991,   3.37197995,   2.08218002,   4.17491007,\n",
       "        56.09954787,   9.6262598 ,  61.89910685,   2.86023998,\n",
       "         1.87202001,   4.20875978,  21.54780006,  23.29299927,\n",
       "       125.35399628,   3.62855005,   3.0385201 ,   4.08676004,\n",
       "        49.08975339,  57.9818    , 146.30000305,   3.23057008,\n",
       "       286.5039978 , 219.42367841,  45.21593084, 111.56539901,\n",
       "         3.89001012,   2.61763   ,  45.21593084,   2.94303989,\n",
       "        57.65800771,   3.86125994, 167.05569312,  67.56900024,\n",
       "        31.96209908,  44.20758096,  46.02870344,   3.26210999,\n",
       "        55.3619    ,  47.38380177,   3.8854599 ,   3.07587004,\n",
       "         7.06228018,  43.1825393 ,   1.90270996, 223.63285928,\n",
       "        45.92351688,  47.61954565,  56.58418367,  36.43709163,\n",
       "         3.41952991, 209.75      ,   9.6262598 ,   3.18945003,\n",
       "         3.87889004,  44.2461161 ,   4.16489983,   1.68674004,\n",
       "         3.80738997, 135.1587314 ,   4.54055977,   3.08694005,\n",
       "       141.47731078,   4.60962009,   3.44334006,  43.3182468 ,\n",
       "         4.3252902 ,   3.1825099 ,   3.55626011,  46.66800204,\n",
       "         3.27837992,  36.43709163,   4.59150982,   3.89001012,\n",
       "         3.5994401 ,   9.3715601 , 266.98147112, 225.42599487,\n",
       "        12.55410004, 135.47983606, 209.75      ,  47.61954565,\n",
       "        23.32769966,  85.25710297, 214.20300293,  61.3402973 ,\n",
       "       191.92768383,   3.60414004,  47.79170327, 165.44999695,\n",
       "        73.2233963 ,   1.79582   ,  45.80450058,  65.22820135,\n",
       "         7.75354004,   8.07057953,  89.7693334 ,  46.2130672 ,\n",
       "        10.43319988,   3.89451003,  25.40439987,  29.411     ,\n",
       "         4.3905201 ,  45.0945597 ,   4.03400993,  47.71289825,\n",
       "        52.13850021,   1.38917005,  79.53665528, 131.26509817,\n",
       "        54.94420813, 149.93142516,  81.51249862, 131.95193202,\n",
       "         3.72694993,   2.0330801 ,   3.72694993,  49.15159773,\n",
       "       201.25033709,  33.15052554,  45.58177105,   3.46602988,\n",
       "         3.65345001,  59.86962436, 190.75911134,  42.31909769,\n",
       "         3.40924001,  45.95294499,  77.5355    ,  43.94569631,\n",
       "         7.75354004, 184.49599958,  16.7343998 ,   7.79418993,\n",
       "         2.71694994,  46.23099899,   1.99605   ,  18.21789932,\n",
       "        31.56529999,  46.66800204,  46.31350634, 318.71899414,\n",
       "       255.58527087,  59.8240014 ,   1.45419002,   4.07067013,\n",
       "       172.94910161,   4.06861019, 151.57699585,  42.01772107,\n",
       "         3.61556005, 210.5465771 , 125.33000183,   7.60347986,\n",
       "         3.8520999 ,   3.9939599 ,   2.06559992,  86.20189667,\n",
       "        33.196667  ,   1.91441   ,  70.23154173,   3.30351996,\n",
       "        16.7343998 ,  76.08350372,   3.24102998, 188.94599915,\n",
       "         2.72738004,  16.2996006 ,   3.32352996,  99.00370026,\n",
       "        45.0945597 ,   4.11985016,  25.44070053,   3.10489011,\n",
       "        68.15906252,   3.37197995, 121.7009964 ,  54.0682    ,\n",
       "       255.76300049,   2.13316011,  73.51652871,  11.13869953,\n",
       "        53.5463    , 201.25033709, 130.13350488,   1.84890997,\n",
       "         5.23463011,  44.93924342,  76.46756358,   3.5994401 ,\n",
       "        38.91847576,  32.40416822,   3.83958006,  48.38032036,\n",
       "         1.44561994,  48.26715747,  31.93095399,  89.49304255,\n",
       "         3.81171989,  83.62400055, 144.76400757,  44.05590057,\n",
       "         3.49538994,  24.37759972,  52.1874    ,  10.13210011,\n",
       "        46.06941413, 188.03367237,   8.45958996,  22.56270027,\n",
       "       211.17500305,  88.21057228,   1.75941002,   3.65028   ,\n",
       "         3.24039006,  43.4496994 ,  43.91429476,  53.4518    ,\n",
       "       151.57699585,   3.18099999,   3.61595011,   8.61977005,\n",
       "         1.87202001,  57.18903354,  32.81687311,   3.30939007,\n",
       "         4.16087008,  79.32653441,  39.92029576,   3.85680008,\n",
       "       210.5465771 ,  31.13432751,  24.09819984,  65.22820135,\n",
       "       114.67900085,  13.13770008,  10.14949989,   2.64989996,\n",
       "       306.23450395, 131.95193202,  56.93901103,   3.64955997,\n",
       "       167.05569312,  23.29299927,   2.84840012,   4.51464987,\n",
       "        74.69300115,   3.71167994,  33.196667  ,  31.27750015,\n",
       "        60.26480648, 187.07783543,   2.75490999,  21.14850044,\n",
       "         3.8420701 ,  86.66770172,  76.7486542 ,   4.13266993,\n",
       "         3.90253997,   1.70081997,   9.19283009,   2.13316011,\n",
       "        78.06383864,  33.196667  ,  97.57700348,  44.15119934,\n",
       "         4.11353016, 136.05700684,  43.51470899,  89.75266744,\n",
       "         2.01824999,  45.59188621,  50.2719    ,   3.63772011,\n",
       "        53.2446    ,  77.5355    ,  52.0989    , 128.33500671,\n",
       "        41.97580954,  47.71289825,  22.56270027,  40.61460114,\n",
       "       114.40476832,   2.88687992, 172.94910161,  61.95471205,\n",
       "         3.63772011,   4.06861019,  58.09964767,   2.99677992,\n",
       "       223.05700684,   7.9762001 ,  45.80450058, 114.40476832,\n",
       "        45.58177105,   8.61977005,   4.64103985,   2.87995005,\n",
       "        81.51249862,   1.72744   ,   4.3252902 ,  31.27750015,\n",
       "         3.50026011, 108.50025767,   1.73053002,  45.47999954,\n",
       "        42.6890194 , 196.42775459, 135.1587314 ,   1.40895998,\n",
       "         3.78850007,  25.36529922,   9.3715601 ,   5.34294987,\n",
       "        83.55533607,   3.71441007,  45.21593084,   3.22469997,\n",
       "         7.79418993,  49.80573424,  47.61830139,   2.80297995,\n",
       "        53.2446    ,   2.11818004,   2.93545008,   2.64989996,\n",
       "         3.69892001, 350.25299072,   2.12941003,  28.91200066,\n",
       "        47.71289825,   2.63308001,  68.15906252,   2.11818004,\n",
       "         1.40895998,  48.87706842,   3.88293004, 155.61203291,\n",
       "         5.59378004,   1.36132002])"
      ]
     },
     "execution_count": 8,
     "metadata": {},
     "output_type": "execute_result"
    }
   ],
   "source": [
    "regressor = DecisionTreeRegressor(random_state=0)\n",
    "regressor.fit(x_train,y_train)\n",
    "\n",
    "y_pred_dt = regressor.predict(x_test)\n",
    "y_pred_dt"
   ]
  },
  {
   "cell_type": "code",
   "execution_count": 9,
   "metadata": {},
   "outputs": [
    {
     "data": {
      "text/plain": [
       "0.9973495204727458"
      ]
     },
     "execution_count": 9,
     "metadata": {},
     "output_type": "execute_result"
    }
   ],
   "source": [
    "regressor.score(x_test, y_test, sample_weight=None)"
   ]
  },
  {
   "attachments": {},
   "cell_type": "markdown",
   "metadata": {},
   "source": [
    "Random Forest"
   ]
  },
  {
   "cell_type": "code",
   "execution_count": 10,
   "metadata": {},
   "outputs": [
    {
     "data": {
      "text/plain": [
       "array([  3.80647304,  83.24370586,   2.99899121,  45.11308568,\n",
       "        19.10612785,   3.88059782,  44.92624095, 159.43689753,\n",
       "        25.54760092,  42.41490745,   3.07640284, 151.32308294,\n",
       "         3.94601099,  98.11569305, 217.28202435,   2.39776966,\n",
       "         3.146678  , 146.72488448,   3.8127702 ,   1.7471796 ,\n",
       "         3.03572719,  35.05501859,   3.90387063,  58.29461053,\n",
       "        24.25686439,  73.17378054, 156.79987347,   3.866484  ,\n",
       "         3.39720741,  75.56704169,   2.35822262,   3.88036282,\n",
       "        63.9965751 ,  55.07671196,  43.15478606,   5.15650043,\n",
       "         5.60080455,  88.55151367,  98.29257483,   2.72661598,\n",
       "       350.35533448,  67.92077851,   3.46539802,   2.10351083,\n",
       "        51.34785057,   3.30562399,  56.94344268,  83.62843846,\n",
       "        30.4676344 ,  48.14138329,  70.4192056 ,   3.11604701,\n",
       "         3.39755379,   2.88063899,  43.52481695,  11.55490391,\n",
       "        15.77289619,  74.84014   ,   2.3187494 ,   4.03697019,\n",
       "         8.59465387, 179.43282439,   7.34052999,   4.4321994 ,\n",
       "        58.29829842,  88.36418208,  45.41177582,   3.50845442,\n",
       "         2.70825798,   1.77749658,  58.623311  ,  41.26011214,\n",
       "         1.46539682,   1.70244439,  57.51619325,  31.44594492,\n",
       "         3.46342259, 147.64108233,   3.49026018,   3.60714883,\n",
       "        42.58721623,  60.10969104, 138.01497502,  34.25601975,\n",
       "         2.39056767, 137.31724265,   1.7923806 ,  44.07872078,\n",
       "         2.89143044, 135.59244376,  25.90416251,  41.48978742,\n",
       "         4.99023088,   4.41886422,  93.50951774,   4.38707846,\n",
       "         2.5958614 ,   4.24291173,   4.01312623, 186.03228144,\n",
       "        25.04920488,  12.42026604,  47.66954106,  15.20464998,\n",
       "         3.88510142,   3.96427045,  52.11609902,  24.6394368 ,\n",
       "         5.21674144,   2.65777937,  31.09677469,  10.096542  ,\n",
       "        84.30819445, 112.64389441,   3.28403858,   3.76585384,\n",
       "        14.820562  ,  44.69971728,  61.22054366,   3.1835452 ,\n",
       "         4.28415284,   4.67432038, 161.37489444,  65.38023359,\n",
       "         4.05472263,  48.21513865,   4.80272099,   1.90634979,\n",
       "         4.10330714,  70.14406821,  90.13889911,  71.16859127,\n",
       "         3.89542322,   2.95571215, 212.12944491,   1.4104456 ,\n",
       "        88.51291665,  13.86699409,  40.54821708,   7.62569016,\n",
       "        15.48855223, 191.30570201,   3.96400819,   3.80295139,\n",
       "       168.61347894, 230.46883703,  85.11913532, 268.82510137,\n",
       "         3.81822524,   4.0186404 ,   7.27119589,  17.31959019,\n",
       "        42.15949058,   2.55485279,   3.81240738,   3.83954242,\n",
       "        10.86171213,  10.25718342,   1.6588518 , 127.39349582,\n",
       "       101.43601428,  90.62922328,   1.7893172 ,  84.42028524,\n",
       "       173.12823774,   4.11633184,   8.54648483,  54.4002495 ,\n",
       "         3.76132304,  50.26562161,   2.57735778,  87.2432333 ,\n",
       "         1.37797099,  43.04989317,  85.75872294,  34.31829664,\n",
       "        45.58295193,   1.90488277,  45.80164801,   3.20240401,\n",
       "        46.8826235 ,  18.87160566,  75.94248809, 179.5118548 ,\n",
       "         4.12281658,   4.04368962,  52.74189197,  53.38605522,\n",
       "       152.96123694,   4.10585272,   2.94910837,   3.60285441,\n",
       "        59.99168005,  46.9027469 , 311.18992915,   3.86338539,\n",
       "       113.50673641,  44.41913561,   2.97536561,   2.8159918 ,\n",
       "         2.80961738,   3.85681123,  63.80177161,  97.90697155,\n",
       "        15.06538191,   1.83264319,  24.19136606,  41.18099291,\n",
       "        87.49078034,   2.60305555,  81.02673122,  50.76454194,\n",
       "         2.84943103,   4.13139029, 153.13139573,   1.69228779,\n",
       "        78.66979101,  41.79119908,  43.22069263,  38.69281692,\n",
       "        82.21301923,  17.07682426,  87.25087453,  87.76875452,\n",
       "       163.08796899,   3.68994417, 161.95966034,   2.59013386,\n",
       "         2.84144559,  55.54955499,  50.27990629,  14.69067991,\n",
       "         5.42881262,   3.88980123,   1.79289101,   3.56006956,\n",
       "         3.59075422,   3.06484595,  43.56433963, 151.80877926,\n",
       "         3.87863782,   1.34774738,  52.30828996,   4.03116922,\n",
       "       114.02540638,  46.97563352,   1.45425918,   1.98646261,\n",
       "       118.10823931,   3.7988536 ,   2.17725102,   7.67319118,\n",
       "        54.19977638, 162.14175751,   3.79086298, 209.40859923,\n",
       "         7.70571966,   3.82857923,  62.14438527,   3.1247484 ,\n",
       "       119.96670773,  62.23121137,   3.60449104,   3.3170686 ,\n",
       "         3.02839622,  47.57573539,   1.9737312 ,   3.84523122,\n",
       "         3.61045221,   3.11087542,  40.47272482,  52.28289992,\n",
       "         1.803674  ,   3.08665699,  59.67453939,  51.31556217,\n",
       "       106.55086574,  31.43103675,  49.14955812, 274.67810833,\n",
       "        11.13455803, 246.16816911,   4.67882385,   3.73027263,\n",
       "        63.32556831,   9.70872421,  16.53833809,   2.75797734,\n",
       "         3.27279316, 287.58406671,   4.1715476 , 187.0208732 ,\n",
       "         3.74975577,  49.43092811,   3.79388716,  60.60595661,\n",
       "        17.04427231, 103.50347335,  69.51386527,  41.97532245,\n",
       "         4.07826233, 150.48349346,   2.86102822,  51.91152724,\n",
       "        60.15389796,   3.46623003,  31.24014019,  10.67525606,\n",
       "        77.75700603,  50.24755146,  18.3036879 ,  95.68713723,\n",
       "        51.64917154,  30.78791707,  56.96412977,  43.12897013,\n",
       "         7.20378495,   3.78890544,   2.98538778,   1.8694826 ,\n",
       "         3.61337184,  83.93294352, 135.5126975 ,  44.81482907,\n",
       "        91.10831434,   3.14545844,   5.27189443,   4.62154883,\n",
       "         2.82063298,   3.93181239,   7.20475415,  52.24959972,\n",
       "         3.10104381,  11.36431999,  56.9745817 ,  58.40905587,\n",
       "         2.770573  ,  47.32898581,  26.21720214,  16.99703632,\n",
       "       187.91656858, 219.63562333,   3.90601161,   3.19318281,\n",
       "         3.8239788 ,   3.56065337, 119.07433447,  47.7102836 ,\n",
       "       144.75697487,   3.0809988 , 201.98128896,   1.7268708 ,\n",
       "        69.37994913,  31.79804701,  60.47632648,  29.67888024,\n",
       "       310.25853974, 209.75075183,   2.6672094 ,   5.6748673 ,\n",
       "         5.0572629 ,   4.03615384,   2.94372999,  80.85275132,\n",
       "        54.86612118,  38.43987417,  73.70870598,   3.49506382,\n",
       "        17.30091209,   4.43835044,  77.2571198 ,  44.04531074,\n",
       "         8.02095387, 104.64684265,   3.91824441,   3.01747785,\n",
       "         2.65252317, 201.76255784, 253.49973623, 178.96292091,\n",
       "         3.66265195,  40.64468514,   4.64553386,  53.57701755,\n",
       "        61.91441847, 223.83266733,  41.5184664 ,  42.93403186,\n",
       "         2.59031364,   3.92270502,   4.07361137,  53.6209538 ,\n",
       "        32.80362551,  15.61186419,   3.12940238,  18.70490005,\n",
       "         3.33036119,   3.58576366,   1.85799839,   2.81923019,\n",
       "        33.87978438,  36.27637878,   2.81518179,  52.12795841,\n",
       "        55.57435491,  41.83992333,   1.4548422 ,  84.44186336,\n",
       "         8.16344514,   3.82691703,   3.98082185,   1.61606802,\n",
       "        10.52188339,   3.9581484 ,   3.81102942, 151.35923479,\n",
       "         1.93697379,   3.79877559,   3.6601628 ,  46.92556371,\n",
       "         3.10135119,   2.75048301,   3.6208624 ,  61.08396848,\n",
       "         1.89927479, 136.32490327,  10.61374216,   3.96608101,\n",
       "         5.02574807,   3.08813619,  76.34314484,  33.87194273,\n",
       "         3.405145  ,  87.71528246, 134.17701912, 130.23113683,\n",
       "         2.1538352 , 180.44511578,   2.9542952 ,  10.27729397,\n",
       "         1.98316161,   3.24885384,   2.35091922,   2.97670041,\n",
       "       246.36662713,   1.7840792 ,   3.10604777,  21.39543652,\n",
       "        65.62210237,   3.87034783,   3.7295994 ,  25.55714446,\n",
       "        43.54687597,  33.85154924,  78.40888087,  57.64159042,\n",
       "        61.68782862,  49.04546796,   2.45220926,   3.20329779,\n",
       "        56.6882836 ,  62.85748426,   6.70308191,  60.01954461,\n",
       "         3.2401614 ,   2.66104857,   3.24631584,   3.97912117,\n",
       "         3.81849598,  54.29402091, 136.20663409,   4.06865727,\n",
       "        46.37002664, 114.28221703,  42.48794265,   8.03441553,\n",
       "        78.11637232, 178.74007409,   3.21466558,   4.33140701,\n",
       "        33.98380488,  25.35293072,   3.96349139, 139.7097193 ,\n",
       "        61.98367096,  40.50337542,  72.50475095,   1.9080758 ,\n",
       "         3.6256714 ,  57.05668563,  53.6552163 ,   3.20425819,\n",
       "        60.56868239,   4.07425209,   3.87431323,   3.98552462,\n",
       "       117.13889946,  42.63962384, 138.39679702,  15.65781837,\n",
       "        69.75516093,   2.35778584,  77.03807834,   3.14665479,\n",
       "        60.06659585,   9.03266642,  24.14544942,  20.60821571,\n",
       "        61.76552241,   3.8350648 ,   2.8658084 ,  42.95888246,\n",
       "       120.74479555,  98.48426852,   3.19917558,   4.04277615,\n",
       "       150.21728735,  73.15689983,   2.7013756 ,  42.51778933,\n",
       "       179.97455208,  78.55034409, 149.16492915,   3.24950825,\n",
       "         2.06705924,  42.629267  ,  62.16767092, 134.02787647,\n",
       "         3.76979656,  58.33206613, 113.73527536,   3.02674181,\n",
       "        11.13507803, 101.10003403,  73.3836695 ,   3.84180603,\n",
       "        12.54810604,   3.92796641,   3.88271702,   4.04772441,\n",
       "       176.49491324,  44.66183088,   5.06654469,  56.02700501,\n",
       "        11.42310017,   1.69537842,  45.96094963,  30.88854126,\n",
       "        10.20174248, 257.49662906, 207.41744841,  82.10911095,\n",
       "       124.89316306,  42.10660203,  11.222864  ,  83.21462009,\n",
       "        68.22172763,  54.52853999,  73.33408898,  46.46710849,\n",
       "         3.91840222,   3.50493519,   2.20276302,   3.99330919,\n",
       "        56.99409371,   9.70519341,  62.8992308 ,   2.8767344 ,\n",
       "         1.99396203,   4.19314454,  20.84931026,  25.98950562,\n",
       "       127.02163501,   3.62094241,   3.0232536 ,   4.39480116,\n",
       "        48.89627701,  58.33467105, 144.56846892,   3.23275825,\n",
       "       292.93843243, 228.52494233,  45.01588743, 109.4655897 ,\n",
       "         3.8955794 ,   2.60498656,  44.80996552,   2.95386976,\n",
       "        57.26964601,   3.92671162, 165.88787795,  69.54349627,\n",
       "        33.706198  ,  44.05588449,  45.22754025,   3.25888441,\n",
       "        56.34044369,  47.31260432,   3.8688868 ,   3.08361479,\n",
       "         7.10632294,  43.32700923,   1.89374999, 226.19406636,\n",
       "        46.88217243,  46.65174069,  56.28769387,  34.79220108,\n",
       "         3.414005  , 210.59249387,   9.26579884,   3.15797982,\n",
       "         3.83569682,  44.39293983,   4.1166746 ,   1.6802702 ,\n",
       "         3.8309312 , 134.08011064,   4.47985539,   3.02580137,\n",
       "       139.04642942,   4.67055264,   3.51916762,  43.14105023,\n",
       "         4.2377689 ,   3.171771  ,   3.58966023,  46.205507  ,\n",
       "         3.268241  ,  37.30177888,   4.52148298,   3.88977701,\n",
       "         3.639874  ,  10.26918314, 267.29477323, 232.97845465,\n",
       "        12.27138012, 136.26507137, 211.89923427,  47.17894717,\n",
       "        23.8109405 ,  83.4803701 , 198.96937294,  61.08851184,\n",
       "       190.37698819,   3.5772174 ,  47.76736255, 163.90199168,\n",
       "        72.96057714,   1.80106662,  45.99923047,  65.56880668,\n",
       "         7.65111316,   8.17770413,  88.78417466,  46.63294484,\n",
       "        10.44582611,   3.89916363,  24.86676296,  30.75306399,\n",
       "         4.53577267,  45.1021452 ,   4.04919762,  48.0151556 ,\n",
       "        50.99762287,   1.39649783,  78.51756803, 132.54145163,\n",
       "        56.17841242, 150.75773404,  79.68004191, 131.44050379,\n",
       "         3.76791321,   2.01675801,   3.79180879,  50.59227545,\n",
       "       200.56388257,  32.8273118 ,  45.1825869 ,   3.51863816,\n",
       "         3.6524516 ,  59.59396576, 190.0173403 ,  42.66613159,\n",
       "         3.47042575,  46.03142966,  76.24720402,  44.67040523,\n",
       "         7.67343004, 181.48097066,  17.41894196,   8.53608779,\n",
       "         2.7144582 ,  46.40826461,   1.9697056 ,  17.95437397,\n",
       "        30.98727627,  46.99533585,  47.29177313, 321.3902766 ,\n",
       "       254.7455926 ,  59.63090443,   1.4433766 ,   4.03209265,\n",
       "       171.9559537 ,   3.941156  , 149.83225983,  41.70231652,\n",
       "         3.60974404, 208.05758386, 137.33559737,   7.61711332,\n",
       "         3.84583497,   3.9964376 ,   2.05873741,  83.99093162,\n",
       "        33.86300574,   1.89154819,  70.19178829,   3.35639461,\n",
       "        17.65874397,  77.29702489,   3.23531383, 183.41596895,\n",
       "         2.74200139,  16.25523043,   3.3469568 ,  88.54446221,\n",
       "        44.63911105,   4.07649068,  25.05097412,   3.12128961,\n",
       "        66.9474686 ,   3.53427438, 120.1007358 ,  54.57487935,\n",
       "       255.18717822,   2.32718541,  73.54945872,  11.13547995,\n",
       "        53.50084797, 197.87768258, 134.18806065,   1.8688316 ,\n",
       "         5.52873878,  45.433697  ,  75.07929036,   3.6124154 ,\n",
       "        39.68425151,  31.93450516,   3.90503202,  48.34654679,\n",
       "         1.44437437,  47.60741347,  30.4952336 ,  92.38371972,\n",
       "         3.78066119,  83.35753671, 149.05460143,  43.98683983,\n",
       "         3.50713801,  24.49486736,  52.12375696,  10.13624821,\n",
       "        46.16316047, 181.01153547,   8.86642603,  22.59555732,\n",
       "       211.28036328,  94.40040646,   1.7825872 ,   3.67046075,\n",
       "         3.2556102 ,  42.85859718,  42.82850855,  53.59119635,\n",
       "       150.59750627,   3.15593503,   3.59329644,   8.58904902,\n",
       "         2.03254842,  56.47059546,  32.2932185 ,   3.30529341,\n",
       "         4.07684763,  78.81029334,  40.34057848,   3.86214065,\n",
       "       212.3962845 ,  31.78583103,  24.00832664,  65.37954737,\n",
       "       123.94521004,  13.03473009,  10.45991098,   2.62062639,\n",
       "       307.82249139, 134.12468973,  56.09135806,   3.63886358,\n",
       "       168.55078569,  25.23803547,   2.83115079,   4.63281128,\n",
       "        75.40358431,   3.70420061,  33.5348004 ,  30.40661396,\n",
       "        61.21128488, 192.08868604,   2.85090316,  18.79024   ,\n",
       "         3.83865664,  85.27517424,  82.444199  ,   4.12990316,\n",
       "         3.8927168 ,   1.69417821,   9.1023785 ,   2.52441719,\n",
       "        79.29454811,  33.49685895,  95.13679273,  44.02636753,\n",
       "         4.07667848, 137.28080004,  44.02383082,  88.23757173,\n",
       "         1.99483897,  46.39596155,  50.09186376,   3.59569583,\n",
       "        53.39918697,  75.21713534,  52.06132038, 131.2919234 ,\n",
       "        42.09852751,  47.26257521,  22.43236797,  38.11039918,\n",
       "       129.52693012,   2.88420495, 173.16093272,  61.6270584 ,\n",
       "         3.60762419,   4.0580238 ,  59.26121015,   3.07653355,\n",
       "       221.76732639,   7.43985607,  45.71186233, 124.24930492,\n",
       "        45.28848524,   8.64211783,   4.5042876 ,   2.84116702,\n",
       "        81.00864237,   1.76223019,   4.20558688,  30.31471195,\n",
       "         3.48492884, 108.79700014,   1.7196694 ,  46.24906664,\n",
       "        42.12574021, 200.64034147, 134.14745175,   1.3398232 ,\n",
       "         3.79125642,  26.77189642,   9.27351652,   5.38387481,\n",
       "        84.10667154,   3.7052138 ,  45.34361921,   3.23054938,\n",
       "         8.03343878,  48.97484224,  48.48545454,   2.78296819,\n",
       "        53.61408386,   2.06720664,   2.94641408,   2.66262977,\n",
       "         3.776931  , 327.34955352,   2.14328925,  27.47028429,\n",
       "        47.38180351,   2.65006858,  64.39233685,   2.03288683,\n",
       "         1.40468102,  48.98713021,   3.90110082, 153.02330683,\n",
       "         5.61023356,   1.360879  ])"
      ]
     },
     "execution_count": 10,
     "metadata": {},
     "output_type": "execute_result"
    }
   ],
   "source": [
    "rf = RandomForestRegressor(n_estimators=50)\n",
    "rf.fit(x_train,y_train)\n",
    "y_pred_rf = rf.predict(x_test)\n",
    "y_pred_rf"
   ]
  },
  {
   "cell_type": "code",
   "execution_count": 11,
   "metadata": {},
   "outputs": [
    {
     "name": "stdout",
     "output_type": "stream",
     "text": [
      "0.9975619741211849\n",
      "1.1833194464348569\n",
      "9.556121728349064\n"
     ]
    }
   ],
   "source": [
    "print(r2_score(y_test,y_pred_rf))\n",
    "print(mean_absolute_error(y_test,y_pred_rf))\n",
    "print(mean_squared_error(y_test,y_pred_rf))"
   ]
  },
  {
   "attachments": {},
   "cell_type": "markdown",
   "metadata": {},
   "source": [
    "MODEL TRAINING"
   ]
  },
  {
   "attachments": {},
   "cell_type": "markdown",
   "metadata": {},
   "source": [
    "Linear Regression"
   ]
  },
  {
   "cell_type": "code",
   "execution_count": 20,
   "metadata": {},
   "outputs": [
    {
     "name": "stdout",
     "output_type": "stream",
     "text": [
      "[  3.86612419  83.37976879   3.03672051  44.92250104  19.20151937\n",
      "   3.92708289  44.4491836  157.05993342  26.83125673  42.13467105\n",
      "   3.13562824 148.83032168   3.98923956  94.34490115 216.83333576\n",
      "   2.42881574   3.20417605 142.48389422   3.84774529   1.79454732\n",
      "   3.1066005   34.52179239   3.96970818  58.0087984   24.3534651\n",
      "  72.29775367 156.80796312   3.92087367   3.492151    74.98095292\n",
      "   2.40997699   3.93051646  65.78540566  54.37985068  43.37896128\n",
      "   5.32786726   5.63853085  87.38248196  97.05161685   2.7645949\n",
      " 370.67163173  67.64520455   3.50317621   2.30691624  51.13607502\n",
      "   3.36893806  57.25030751  84.95868772  31.09615091  47.95961712\n",
      "  73.10974373   3.16767791   3.47102954   2.91886077  43.60642291\n",
      "  11.61461326  15.81115518  75.62011499   2.34804246   4.09912159\n",
      "   8.53062057 180.21864267   8.49069786   4.54386702  57.99595518\n",
      "  89.14787971  45.30237206   3.58531511   2.75514591   1.81909447\n",
      "  58.31431112  41.68534541   1.53046382   1.80254198  58.22629278\n",
      "  31.70511851   3.50682519 147.64856302   3.53101177   3.69539348\n",
      "  42.55255001  59.85422836 139.17481641  34.90811533   2.40952998\n",
      " 137.52557161   1.88021923  44.10374279   2.96766339 135.92344536\n",
      "  27.13894795  41.31606765   5.06503959   4.395845    92.85512382\n",
      "   4.47778469   2.64543569   4.3313767    4.11562998 183.90281271\n",
      "  26.04747714  12.09512172  47.9672987   15.36631286   3.93590599\n",
      "   4.00850268  52.13045822  24.23845497   5.39748112   2.74937347\n",
      "  31.22189833   9.91135523  83.60604292 110.05497011   3.35436658\n",
      "   3.80735842  15.43368536  44.81569065  60.86477869   3.26178681\n",
      "   4.39575015   4.79117845 158.10163388  64.81945381   4.10552552\n",
      "  48.8220934    4.71335672   1.99313537   4.13724734  71.9647651\n",
      "  89.27845574  73.2357354    3.96242059   2.98739763 209.04525286\n",
      "   1.47714293  87.58041107  13.74878682  40.46993705   7.42551268\n",
      "  15.70164232 205.27453008   4.00551263   3.85447611 166.92173685\n",
      " 232.52176696  82.85000406 271.75847777   3.86140893   4.06457476\n",
      "   7.29960624  17.25613892  42.4083784    2.52839913   3.85925479\n",
      "   3.87411547  11.04467956  10.35140242   1.72429499 127.9961811\n",
      " 102.5456153   89.94039901   1.84314445  82.98888271 176.53494357\n",
      "   4.16196766   8.39925508  53.87647237   3.80229811  50.86216247\n",
      "   2.66045364  81.79832953   1.42221297  43.10210911  83.10357419\n",
      "  35.25244989  45.58489581   1.9671525   45.75936971   3.32790097\n",
      "  47.06229511  18.33228292  76.48829618 180.59076311   4.33930527\n",
      "   4.16245568  52.52206823  53.06365196 153.2790625    4.19083136\n",
      "   2.90174099   3.64057731  60.51203806  46.99976792 323.09837222\n",
      "   3.9615849  112.92515991  44.33543575   2.94827804   2.85194551\n",
      "   2.85697506   3.89034283  65.58683294  95.12664268  13.84329128\n",
      "   1.87547748  23.98439129  41.23783401  86.33289901   2.7154203\n",
      "  79.71226302  51.12609975   2.93605543   4.18717193 151.26483176\n",
      "   1.78596318  79.15155647  41.925257    43.42637256  37.87570737\n",
      "  83.15120362  16.99175297  85.33567202  86.80311175 159.87874862\n",
      "   3.76264535 160.86937225   2.60347744   2.89259302  55.59564923\n",
      "  50.59116366  14.84285803   5.23234277   3.93981595   1.90275032\n",
      "   3.63019846   3.63204753   3.10231913  44.10373723 142.3333053\n",
      "   3.94231496   1.39758496  51.96737205   4.06262142 112.97342448\n",
      "  46.90652833   1.51166836   2.28203248 118.35964886   3.84160292\n",
      "   2.31206751   7.64784645  53.90835554 156.86069467   3.83848621\n",
      " 206.03325533   7.92788536   3.88637143  62.35107981   3.16964982\n",
      " 119.55219323  62.43022558   3.67294127   3.36542209   3.05472545\n",
      "  47.63447289   2.03285335   3.90046035   3.66982581   3.17614617\n",
      "  40.18151931  52.29098369   1.8814971    3.11553164  60.01951884\n",
      "  51.31672233 123.55740939  31.41422313  49.8089152  268.49136166\n",
      "  11.23560964 249.61324896   4.71854806   3.79835012  64.78956822\n",
      "   9.64549696  16.56836905   2.78942565   3.31691488 288.72139167\n",
      "   4.20814312 185.84903678   3.77753468  49.30339126   3.83595335\n",
      "  60.4788551   17.30782589 101.94171421  70.1786061   41.8865456\n",
      "   4.19350091 149.27654147   2.87825143  52.63317641  60.57911715\n",
      "   3.51421843  31.08328654  10.68265893  77.86154786  50.14289628\n",
      "  17.53772485  99.34935951  52.95726883  29.68157675  57.64870254\n",
      "  43.34676587   7.08918996   3.83412216   3.00897001   1.89559167\n",
      "   3.65592775  83.19709737 135.19818229  44.65077415  91.33062382\n",
      "   3.17957929   5.31965468   4.7995555    2.86210953   3.98073229\n",
      "   7.03952115  52.06076203   3.14395989  11.28914907  57.59599715\n",
      "  58.73430826   2.82806682  47.18902017  28.08497398  16.96649855\n",
      " 191.97358618 211.71140521   3.95193716   3.26663944   3.86600428\n",
      "   3.62191656 118.62415585  48.35214978 144.08290143   3.13501939\n",
      " 201.03506441   1.79483291  69.6877222   31.90389754  60.94869826\n",
      "  29.22769251 326.69701017 209.000622     2.64728281   6.01820596\n",
      "   5.10891811   4.08109377   2.91899614  78.23662669  54.89674244\n",
      "  38.24195461  74.56126909   3.55619963  17.55390013   4.42257731\n",
      "  77.69953489  43.99027652   8.43507593 102.15430822   3.98268493\n",
      "   3.05280871   2.74723392 197.53496153 256.30535374 175.23430839\n",
      "   3.72228573  39.44202099   4.70101497  53.89484317  62.73602104\n",
      " 224.25520053  41.53124931  43.26525209   2.63656912   3.95453403\n",
      "   4.15021617  53.1505245   32.21421515  15.57344536   3.17691019\n",
      "  14.10749694   3.40450253   3.63600272   1.88320829   2.86991495\n",
      "  34.12335974  36.89322417   2.86330684  51.82903074  55.22658348\n",
      "  41.93356894   1.5093575   83.06650967   8.548434     3.86872574\n",
      "   4.02330877   1.71157923  10.66437104   3.98728557   3.88121924\n",
      " 151.28456256   1.98516304   3.84434517   3.70952118  46.78404826\n",
      "   3.13609941   2.80155271   3.68574091  61.07160536   1.95314694\n",
      " 135.17825354  10.90976669   4.03022366   4.95057866   3.11613434\n",
      "  75.0245536   34.24583736   3.46430802  86.00304493 140.86224632\n",
      " 132.05056379   2.22285292 177.6645886    3.09047254  10.62077888\n",
      "   2.0006146    3.28550882   2.34959972   3.03096211 247.04530829\n",
      "   1.82266505   3.1534456   21.18735835  65.95804553   3.91640904\n",
      "   3.7775466   26.60084498  43.67760521  34.02255125  72.49960941\n",
      "  57.69697789  62.77469431  49.51215663   2.48416777   3.23924629\n",
      "  56.86597762  62.27683877   6.35520341  60.01577183   3.28740391\n",
      "   2.7067672    3.29533761   4.01610973   3.85803528  53.92703215\n",
      " 135.04302383   4.11426956  46.56417808 114.0525605   43.30428314\n",
      "   8.08544896  77.45161296 174.78667182   3.25913037   4.40142839\n",
      "  32.12528523  26.41010954   4.00869763 139.49552834  62.0418969\n",
      "  41.19218724  72.25951317   1.9780629    3.69560075  57.09978285\n",
      "  53.96820534   3.24931245  60.08482658   4.12984735   3.90416116\n",
      "   4.04122925 117.38752202  42.32865991 138.42896664  15.98577798\n",
      "  70.42896314   2.34415014  75.85993609   3.16686183  60.81863449\n",
      "   9.12781592  24.18048984  20.49105659  62.57574126   3.88286919\n",
      "   2.94450421  43.00704229 123.3826482   97.24964464   3.24590305\n",
      "   4.17081033 146.9715117   72.98775305   2.71284567  42.43825075\n",
      " 180.97678536  78.94558149 145.35083842   3.29592121   2.13988671\n",
      "  42.7517564   62.94634981 135.80837933   3.80423981  57.78234083\n",
      " 114.57067753   3.0795683   11.25978356 100.54987104  73.82500458\n",
      "   3.88028474  12.92266656   4.06623415   3.9347142    4.08877673\n",
      " 173.33754873  44.6022379    5.06443368  55.94842215  11.86202155\n",
      "   1.74065341  45.75218257  31.16444296  10.30575491 256.4861811\n",
      " 209.21411     81.88435233 125.20903656  41.993941    11.15816414\n",
      "  82.52081215  69.93295486  54.28087905  74.11022944  47.50495405\n",
      "   3.98227702   3.48223819   2.29070143   4.05889494  56.50183263\n",
      "   9.65709445  62.29285298   2.92774249   2.10247014   4.34897031\n",
      "  20.15411902  26.6059512  125.61513094   3.66681858   3.085741\n",
      "   4.49846799  49.05761404  58.25009771 142.65510736   3.27009504\n",
      " 292.83387602 230.50172682  44.80029687 108.49804096   3.97065603\n",
      "   2.7163364   44.8542892    2.96193478  56.76769289   4.01742274\n",
      " 165.2383089   70.15920073  32.1860584   44.24266983  45.99314203\n",
      "   3.28990181  56.71319094  48.00663055   3.9277664    3.14109174\n",
      "   7.22161274  43.38837897   1.9505689  228.40886819  46.19468309\n",
      "  46.12049335  56.74973107  34.4639764    3.41705361 210.28490917\n",
      "   9.38570032   3.20030371   3.86480943  44.35302623   4.28118558\n",
      "   1.74422134   3.8885695  134.11631353   4.51324793   3.0323193\n",
      " 139.69526911   4.77867607   3.62649878  43.36255693   4.32300952\n",
      "   3.22043963   3.63067024  46.29049347   3.30815431  39.01608627\n",
      "   4.59758602   3.9484437    3.70609612  10.55339439 266.1206853\n",
      " 236.52257988  12.28835402 134.05722562 208.94949716  47.37900574\n",
      "  24.00666563  83.52758248 204.29770644  60.73369343 190.81624615\n",
      "   3.68105501  47.89350508 165.73888041  72.76024109   1.86596624\n",
      "  45.87721525  66.06941844   7.64489214  10.17498527  87.2564419\n",
      "  46.39538509  10.54328866   3.9497185   24.66800096  30.77299434\n",
      "   4.60933163  44.56589082   4.08914555  47.43475843  51.17387965\n",
      "   1.46053414  78.31508834 133.27891666  55.365018   150.04239767\n",
      "  78.86246302 133.82329599   3.82581077   2.0749975    3.84434407\n",
      "  49.7329073  199.6841161   32.55294439  45.22834746   3.56104738\n",
      "   3.70103414  59.91067484 185.63816042  42.90517675   3.50877666\n",
      "  45.8881727   76.35954415  44.25711579   7.76603872 185.2994683\n",
      "  17.58987963  10.61139868   2.79109085  46.47889621   1.97180055\n",
      "  17.82428668  30.63717146  47.0374195   47.63190324 323.07189308\n",
      " 255.99057313  59.37336469   1.49201431   4.0784075  175.6957551\n",
      "   4.08287011 150.87289766  41.66088728   3.655099   204.15488485\n",
      " 135.27664707   7.58496044   3.88852495   4.04418693   2.1566356\n",
      "  83.52802996  33.60644693   1.9592656   71.3097183    3.4064259\n",
      "  17.69628531  76.60254293   3.27535558 177.72585464   2.7904416\n",
      "  16.23279662   3.42269188  88.69075378  44.23117099   4.11882552\n",
      "  25.26944623   3.17071527  73.80987769   3.68758301 118.34865943\n",
      "  54.83631252 250.54782578   2.51702808  73.40758762  11.09981196\n",
      "  53.66157366 195.88619849 138.73087485   1.90612942   5.33992421\n",
      "  45.15918673  76.19064935   3.67630875  40.28360841  32.14323446\n",
      "   3.95981126  48.19326087   1.50118463  47.98896593  31.01697416\n",
      "  93.32026689   3.82290188  82.37778969 144.14632935  45.30853857\n",
      "   3.55185554  24.7540383   52.12957189   9.88415497  46.23118727\n",
      " 176.43422542  10.61387515  23.02407708 212.92720413  98.7659632\n",
      "   1.88041726   3.732839     3.30169608  42.75027476  42.95142358\n",
      "  52.98904389 150.61782636   3.20610544   3.61228361   8.72697846\n",
      "   2.13747492  56.79143364  32.63084862   3.3548452    4.1277518\n",
      "  81.01472316  40.60669433   3.90775458 206.18336963  32.08614959\n",
      "  23.68334535  65.31251347 122.75149754  12.89269432  10.83593699\n",
      "   2.72475604 314.96440735 136.63333478  55.95282428   3.6868398\n",
      " 168.79159194  26.11543877   2.89217093   4.69260913  76.50072656\n",
      "   3.7549512   33.48030722  30.57837895  61.48485118 195.9730584\n",
      "   2.91484613  20.42274235   3.8770848   85.22380013  82.95672177\n",
      "   4.19162741   3.96121132   1.74955686   9.25407271   2.61955032\n",
      "  80.31612356  33.15044321  93.75074357  44.17461167   4.11524523\n",
      " 142.44910273  45.62357416  87.11122766   2.03037624  46.24986484\n",
      "  50.29194641   3.64258355  54.0069517   74.42258683  51.53097412\n",
      " 129.42382762  41.77332132  46.6379547   22.61099315  42.61287967\n",
      " 127.84624859   2.92634182 177.27117473  61.30566459   3.66866267\n",
      "   4.15117788  60.60358415   3.20976973 218.64043035   6.32057559\n",
      "  45.59735174 118.4792475   45.46770759   8.99057609   4.50296303\n",
      "   2.91298083  79.58308088   1.8278008    4.27440434  29.14800236\n",
      "   3.52385657 108.3806804    1.802704    45.13749594  41.48069208\n",
      " 202.29668472 133.72108623   1.39515299   3.84094863  28.63281083\n",
      "  10.61783776   5.48358975  84.42299355   3.77105698  45.05703303\n",
      "   3.27759274   7.93631962  48.55631835  48.71208159   2.83337565\n",
      "  54.04558534   2.17154037   3.02012189   2.76423572   3.7956423\n",
      " 339.65422936   2.27938678  27.42709783  47.34478213   2.75123399\n",
      "  66.75307901   2.14467633   1.46202235  48.95781645   3.93849456\n",
      " 152.32635171   5.63103913   1.41643854]\n"
     ]
    }
   ],
   "source": [
    "model = LinearRegression()\n",
    "\n",
    "model.fit(x_train, y_train)\n",
    "\n",
    "y_pred = model.predict(x_test)\n",
    "print(y_pred)\n",
    "with open('Litecoin.pkl','wb') as file:\n",
    "    pickle.dump(model,file)"
   ]
  },
  {
   "attachments": {},
   "cell_type": "markdown",
   "metadata": {},
   "source": [
    "MODEL EVALUATION"
   ]
  },
  {
   "cell_type": "code",
   "execution_count": 21,
   "metadata": {},
   "outputs": [
    {
     "name": "stdout",
     "output_type": "stream",
     "text": [
      "0.999010583218634\n",
      "0.8139905659868935\n"
     ]
    }
   ],
   "source": [
    "print(r2_score(y_test,y_pred))\n",
    "print(mean_absolute_error(y_test,y_pred))"
   ]
  },
  {
   "cell_type": "code",
   "execution_count": 22,
   "metadata": {},
   "outputs": [
    {
     "ename": "InvalidParameterError",
     "evalue": "The 'kernel' parameter of SVR must be a str among {'poly', 'linear', 'precomputed', 'rbf', 'sigmoid'} or a callable. Got 'Linear' instead.",
     "output_type": "error",
     "traceback": [
      "\u001b[1;31m---------------------------------------------------------------------------\u001b[0m",
      "\u001b[1;31mInvalidParameterError\u001b[0m                     Traceback (most recent call last)",
      "Cell \u001b[1;32mIn[22], line 2\u001b[0m\n\u001b[0;32m      1\u001b[0m regressor \u001b[39m=\u001b[39m SVR(kernel\u001b[39m=\u001b[39m\u001b[39m\"\u001b[39m\u001b[39mLinear\u001b[39m\u001b[39m\"\u001b[39m)\n\u001b[1;32m----> 2\u001b[0m regressor\u001b[39m.\u001b[39;49mfit(x_train,y_train)\n\u001b[0;32m      3\u001b[0m y_pred \u001b[39m=\u001b[39m regressor\u001b[39m.\u001b[39mpredict(x_test)\n\u001b[0;32m      4\u001b[0m y_pred\n",
      "File \u001b[1;32mc:\\Users\\Preeti\\AppData\\Local\\Programs\\Python\\Python39\\lib\\site-packages\\sklearn\\svm\\_base.py:180\u001b[0m, in \u001b[0;36mBaseLibSVM.fit\u001b[1;34m(self, X, y, sample_weight)\u001b[0m\n\u001b[0;32m    147\u001b[0m \u001b[39mdef\u001b[39;00m \u001b[39mfit\u001b[39m(\u001b[39mself\u001b[39m, X, y, sample_weight\u001b[39m=\u001b[39m\u001b[39mNone\u001b[39;00m):\n\u001b[0;32m    148\u001b[0m \u001b[39m    \u001b[39m\u001b[39m\"\"\"Fit the SVM model according to the given training data.\u001b[39;00m\n\u001b[0;32m    149\u001b[0m \n\u001b[0;32m    150\u001b[0m \u001b[39m    Parameters\u001b[39;00m\n\u001b[1;32m   (...)\u001b[0m\n\u001b[0;32m    178\u001b[0m \u001b[39m    matrices as input.\u001b[39;00m\n\u001b[0;32m    179\u001b[0m \u001b[39m    \"\"\"\u001b[39;00m\n\u001b[1;32m--> 180\u001b[0m     \u001b[39mself\u001b[39;49m\u001b[39m.\u001b[39;49m_validate_params()\n\u001b[0;32m    182\u001b[0m     rnd \u001b[39m=\u001b[39m check_random_state(\u001b[39mself\u001b[39m\u001b[39m.\u001b[39mrandom_state)\n\u001b[0;32m    184\u001b[0m     sparse \u001b[39m=\u001b[39m sp\u001b[39m.\u001b[39misspmatrix(X)\n",
      "File \u001b[1;32mc:\\Users\\Preeti\\AppData\\Local\\Programs\\Python\\Python39\\lib\\site-packages\\sklearn\\base.py:581\u001b[0m, in \u001b[0;36mBaseEstimator._validate_params\u001b[1;34m(self)\u001b[0m\n\u001b[0;32m    573\u001b[0m \u001b[39mdef\u001b[39;00m \u001b[39m_validate_params\u001b[39m(\u001b[39mself\u001b[39m):\n\u001b[0;32m    574\u001b[0m \u001b[39m    \u001b[39m\u001b[39m\"\"\"Validate types and values of constructor parameters\u001b[39;00m\n\u001b[0;32m    575\u001b[0m \n\u001b[0;32m    576\u001b[0m \u001b[39m    The expected type and values must be defined in the `_parameter_constraints`\u001b[39;00m\n\u001b[1;32m   (...)\u001b[0m\n\u001b[0;32m    579\u001b[0m \u001b[39m    accepted constraints.\u001b[39;00m\n\u001b[0;32m    580\u001b[0m \u001b[39m    \"\"\"\u001b[39;00m\n\u001b[1;32m--> 581\u001b[0m     validate_parameter_constraints(\n\u001b[0;32m    582\u001b[0m         \u001b[39mself\u001b[39;49m\u001b[39m.\u001b[39;49m_parameter_constraints,\n\u001b[0;32m    583\u001b[0m         \u001b[39mself\u001b[39;49m\u001b[39m.\u001b[39;49mget_params(deep\u001b[39m=\u001b[39;49m\u001b[39mFalse\u001b[39;49;00m),\n\u001b[0;32m    584\u001b[0m         caller_name\u001b[39m=\u001b[39;49m\u001b[39mself\u001b[39;49m\u001b[39m.\u001b[39;49m\u001b[39m__class__\u001b[39;49m\u001b[39m.\u001b[39;49m\u001b[39m__name__\u001b[39;49m,\n\u001b[0;32m    585\u001b[0m     )\n",
      "File \u001b[1;32mc:\\Users\\Preeti\\AppData\\Local\\Programs\\Python\\Python39\\lib\\site-packages\\sklearn\\utils\\_param_validation.py:97\u001b[0m, in \u001b[0;36mvalidate_parameter_constraints\u001b[1;34m(parameter_constraints, params, caller_name)\u001b[0m\n\u001b[0;32m     91\u001b[0m \u001b[39melse\u001b[39;00m:\n\u001b[0;32m     92\u001b[0m     constraints_str \u001b[39m=\u001b[39m (\n\u001b[0;32m     93\u001b[0m         \u001b[39mf\u001b[39m\u001b[39m\"\u001b[39m\u001b[39m{\u001b[39;00m\u001b[39m'\u001b[39m\u001b[39m, \u001b[39m\u001b[39m'\u001b[39m\u001b[39m.\u001b[39mjoin([\u001b[39mstr\u001b[39m(c)\u001b[39m \u001b[39m\u001b[39mfor\u001b[39;00m\u001b[39m \u001b[39mc\u001b[39m \u001b[39m\u001b[39min\u001b[39;00m\u001b[39m \u001b[39mconstraints[:\u001b[39m-\u001b[39m\u001b[39m1\u001b[39m]])\u001b[39m}\u001b[39;00m\u001b[39m or\u001b[39m\u001b[39m\"\u001b[39m\n\u001b[0;32m     94\u001b[0m         \u001b[39mf\u001b[39m\u001b[39m\"\u001b[39m\u001b[39m \u001b[39m\u001b[39m{\u001b[39;00mconstraints[\u001b[39m-\u001b[39m\u001b[39m1\u001b[39m]\u001b[39m}\u001b[39;00m\u001b[39m\"\u001b[39m\n\u001b[0;32m     95\u001b[0m     )\n\u001b[1;32m---> 97\u001b[0m \u001b[39mraise\u001b[39;00m InvalidParameterError(\n\u001b[0;32m     98\u001b[0m     \u001b[39mf\u001b[39m\u001b[39m\"\u001b[39m\u001b[39mThe \u001b[39m\u001b[39m{\u001b[39;00mparam_name\u001b[39m!r}\u001b[39;00m\u001b[39m parameter of \u001b[39m\u001b[39m{\u001b[39;00mcaller_name\u001b[39m}\u001b[39;00m\u001b[39m must be\u001b[39m\u001b[39m\"\u001b[39m\n\u001b[0;32m     99\u001b[0m     \u001b[39mf\u001b[39m\u001b[39m\"\u001b[39m\u001b[39m \u001b[39m\u001b[39m{\u001b[39;00mconstraints_str\u001b[39m}\u001b[39;00m\u001b[39m. Got \u001b[39m\u001b[39m{\u001b[39;00mparam_val\u001b[39m!r}\u001b[39;00m\u001b[39m instead.\u001b[39m\u001b[39m\"\u001b[39m\n\u001b[0;32m    100\u001b[0m )\n",
      "\u001b[1;31mInvalidParameterError\u001b[0m: The 'kernel' parameter of SVR must be a str among {'poly', 'linear', 'precomputed', 'rbf', 'sigmoid'} or a callable. Got 'Linear' instead."
     ]
    }
   ],
   "source": [
    "regressor = SVR(kernel=\"Linear\")\n",
    "regressor.fit(x_train,y_train)\n",
    "y_pred = regressor.predict(x_test)\n",
    "y_pred"
   ]
  }
 ],
 "metadata": {
  "kernelspec": {
   "display_name": "Python 3",
   "language": "python",
   "name": "python3"
  },
  "language_info": {
   "codemirror_mode": {
    "name": "ipython",
    "version": 3
   },
   "file_extension": ".py",
   "mimetype": "text/x-python",
   "name": "python",
   "nbconvert_exporter": "python",
   "pygments_lexer": "ipython3",
   "version": "3.9.7"
  },
  "orig_nbformat": 4,
  "vscode": {
   "interpreter": {
    "hash": "ae2f4dfb1c3f9c2c4c2bd7cdeea58f48769a44aab9acceb2e0c73ee45c52ba41"
   }
  }
 },
 "nbformat": 4,
 "nbformat_minor": 2
}
