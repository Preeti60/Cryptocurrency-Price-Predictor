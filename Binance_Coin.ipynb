{
 "cells": [
  {
   "attachments": {},
   "cell_type": "markdown",
   "metadata": {},
   "source": [
    "Importing Libraries"
   ]
  },
  {
   "cell_type": "code",
   "execution_count": 21,
   "metadata": {},
   "outputs": [],
   "source": [
    "import pandas as pd\n",
    "import numpy as np\n",
    "import seaborn as sns\n",
    "from sklearn.model_selection import train_test_split\n",
    "import matplotlib.pyplot as plt\n",
    "from sklearn.linear_model import LinearRegression\n",
    "from sklearn.metrics import r2_score, mean_absolute_error,mean_squared_error\n",
    "from sklearn.tree import DecisionTreeRegressor\n",
    "from sklearn import metrics\n",
    "from sklearn.svm import SVR\n",
    "import pickle\n",
    "from sklearn.metrics import roc_auc_score\n",
    "from sklearn.ensemble import RandomForestRegressor"
   ]
  },
  {
   "attachments": {},
   "cell_type": "markdown",
   "metadata": {},
   "source": [
    "Importing Dataset"
   ]
  },
  {
   "cell_type": "code",
   "execution_count": 2,
   "metadata": {},
   "outputs": [
    {
     "data": {
      "text/html": [
       "<div>\n",
       "<style scoped>\n",
       "    .dataframe tbody tr th:only-of-type {\n",
       "        vertical-align: middle;\n",
       "    }\n",
       "\n",
       "    .dataframe tbody tr th {\n",
       "        vertical-align: top;\n",
       "    }\n",
       "\n",
       "    .dataframe thead th {\n",
       "        text-align: right;\n",
       "    }\n",
       "</style>\n",
       "<table border=\"1\" class=\"dataframe\">\n",
       "  <thead>\n",
       "    <tr style=\"text-align: right;\">\n",
       "      <th></th>\n",
       "      <th>SNo</th>\n",
       "      <th>Name</th>\n",
       "      <th>Symbol</th>\n",
       "      <th>Date</th>\n",
       "      <th>High</th>\n",
       "      <th>Low</th>\n",
       "      <th>Open</th>\n",
       "      <th>Close</th>\n",
       "      <th>Volume</th>\n",
       "      <th>Marketcap</th>\n",
       "    </tr>\n",
       "  </thead>\n",
       "  <tbody>\n",
       "    <tr>\n",
       "      <th>0</th>\n",
       "      <td>1</td>\n",
       "      <td>Binance Coin</td>\n",
       "      <td>BNB</td>\n",
       "      <td>2017-07-26 23:59:59</td>\n",
       "      <td>0.109013</td>\n",
       "      <td>0.099266</td>\n",
       "      <td>0.105893</td>\n",
       "      <td>0.105138</td>\n",
       "      <td>200395.0</td>\n",
       "      <td>10513800.0</td>\n",
       "    </tr>\n",
       "    <tr>\n",
       "      <th>1</th>\n",
       "      <td>2</td>\n",
       "      <td>Binance Coin</td>\n",
       "      <td>BNB</td>\n",
       "      <td>2017-07-27 23:59:59</td>\n",
       "      <td>0.108479</td>\n",
       "      <td>0.100888</td>\n",
       "      <td>0.105108</td>\n",
       "      <td>0.107737</td>\n",
       "      <td>344499.0</td>\n",
       "      <td>10773700.0</td>\n",
       "    </tr>\n",
       "    <tr>\n",
       "      <th>2</th>\n",
       "      <td>3</td>\n",
       "      <td>Binance Coin</td>\n",
       "      <td>BNB</td>\n",
       "      <td>2017-07-28 23:59:59</td>\n",
       "      <td>0.109019</td>\n",
       "      <td>0.101473</td>\n",
       "      <td>0.107632</td>\n",
       "      <td>0.104067</td>\n",
       "      <td>342568.0</td>\n",
       "      <td>10406700.0</td>\n",
       "    </tr>\n",
       "    <tr>\n",
       "      <th>3</th>\n",
       "      <td>4</td>\n",
       "      <td>Binance Coin</td>\n",
       "      <td>BNB</td>\n",
       "      <td>2017-07-29 23:59:59</td>\n",
       "      <td>0.111264</td>\n",
       "      <td>0.101108</td>\n",
       "      <td>0.104782</td>\n",
       "      <td>0.107811</td>\n",
       "      <td>340218.0</td>\n",
       "      <td>10781100.0</td>\n",
       "    </tr>\n",
       "    <tr>\n",
       "      <th>4</th>\n",
       "      <td>5</td>\n",
       "      <td>Binance Coin</td>\n",
       "      <td>BNB</td>\n",
       "      <td>2017-07-30 23:59:59</td>\n",
       "      <td>0.108138</td>\n",
       "      <td>0.103162</td>\n",
       "      <td>0.107935</td>\n",
       "      <td>0.106414</td>\n",
       "      <td>224261.0</td>\n",
       "      <td>10641400.0</td>\n",
       "    </tr>\n",
       "  </tbody>\n",
       "</table>\n",
       "</div>"
      ],
      "text/plain": [
       "   SNo          Name Symbol                 Date      High       Low  \\\n",
       "0    1  Binance Coin    BNB  2017-07-26 23:59:59  0.109013  0.099266   \n",
       "1    2  Binance Coin    BNB  2017-07-27 23:59:59  0.108479  0.100888   \n",
       "2    3  Binance Coin    BNB  2017-07-28 23:59:59  0.109019  0.101473   \n",
       "3    4  Binance Coin    BNB  2017-07-29 23:59:59  0.111264  0.101108   \n",
       "4    5  Binance Coin    BNB  2017-07-30 23:59:59  0.108138  0.103162   \n",
       "\n",
       "       Open     Close    Volume   Marketcap  \n",
       "0  0.105893  0.105138  200395.0  10513800.0  \n",
       "1  0.105108  0.107737  344499.0  10773700.0  \n",
       "2  0.107632  0.104067  342568.0  10406700.0  \n",
       "3  0.104782  0.107811  340218.0  10781100.0  \n",
       "4  0.107935  0.106414  224261.0  10641400.0  "
      ]
     },
     "execution_count": 2,
     "metadata": {},
     "output_type": "execute_result"
    }
   ],
   "source": [
    "df = pd.read_csv(\"coin_BinanceCoin.csv\")\n",
    "df.head()"
   ]
  },
  {
   "cell_type": "code",
   "execution_count": 3,
   "metadata": {},
   "outputs": [
    {
     "data": {
      "text/plain": [
       "(1442, 10)"
      ]
     },
     "execution_count": 3,
     "metadata": {},
     "output_type": "execute_result"
    }
   ],
   "source": [
    "df.shape"
   ]
  },
  {
   "attachments": {},
   "cell_type": "markdown",
   "metadata": {},
   "source": [
    "From this, we got to know that there are 1442 rows of data available and for each row, we have 10 different features or columns."
   ]
  },
  {
   "cell_type": "code",
   "execution_count": 4,
   "metadata": {},
   "outputs": [
    {
     "data": {
      "text/plain": [
       "SNo            int64\n",
       "Name          object\n",
       "Symbol        object\n",
       "Date          object\n",
       "High         float64\n",
       "Low          float64\n",
       "Open         float64\n",
       "Close        float64\n",
       "Volume       float64\n",
       "Marketcap    float64\n",
       "dtype: object"
      ]
     },
     "execution_count": 4,
     "metadata": {},
     "output_type": "execute_result"
    }
   ],
   "source": [
    "df.dtypes"
   ]
  },
  {
   "attachments": {},
   "cell_type": "markdown",
   "metadata": {},
   "source": [
    "From this, we got to know the datatype of each column"
   ]
  },
  {
   "cell_type": "code",
   "execution_count": 6,
   "metadata": {},
   "outputs": [
    {
     "data": {
      "text/html": [
       "<div>\n",
       "<style scoped>\n",
       "    .dataframe tbody tr th:only-of-type {\n",
       "        vertical-align: middle;\n",
       "    }\n",
       "\n",
       "    .dataframe tbody tr th {\n",
       "        vertical-align: top;\n",
       "    }\n",
       "\n",
       "    .dataframe thead th {\n",
       "        text-align: right;\n",
       "    }\n",
       "</style>\n",
       "<table border=\"1\" class=\"dataframe\">\n",
       "  <thead>\n",
       "    <tr style=\"text-align: right;\">\n",
       "      <th></th>\n",
       "      <th>SNo</th>\n",
       "      <th>High</th>\n",
       "      <th>Low</th>\n",
       "      <th>Open</th>\n",
       "      <th>Close</th>\n",
       "      <th>Volume</th>\n",
       "      <th>Marketcap</th>\n",
       "    </tr>\n",
       "  </thead>\n",
       "  <tbody>\n",
       "    <tr>\n",
       "      <th>count</th>\n",
       "      <td>1442.000000</td>\n",
       "      <td>1442.000000</td>\n",
       "      <td>1442.000000</td>\n",
       "      <td>1442.000000</td>\n",
       "      <td>1442.000000</td>\n",
       "      <td>1.442000e+03</td>\n",
       "      <td>1.442000e+03</td>\n",
       "    </tr>\n",
       "    <tr>\n",
       "      <th>mean</th>\n",
       "      <td>721.500000</td>\n",
       "      <td>54.764100</td>\n",
       "      <td>49.165813</td>\n",
       "      <td>52.028231</td>\n",
       "      <td>52.250308</td>\n",
       "      <td>6.269804e+08</td>\n",
       "      <td>7.835575e+09</td>\n",
       "    </tr>\n",
       "    <tr>\n",
       "      <th>std</th>\n",
       "      <td>416.413857</td>\n",
       "      <td>121.675817</td>\n",
       "      <td>108.118454</td>\n",
       "      <td>115.170060</td>\n",
       "      <td>115.390917</td>\n",
       "      <td>1.479775e+09</td>\n",
       "      <td>1.780041e+10</td>\n",
       "    </tr>\n",
       "    <tr>\n",
       "      <th>min</th>\n",
       "      <td>1.000000</td>\n",
       "      <td>0.101211</td>\n",
       "      <td>0.096109</td>\n",
       "      <td>0.099721</td>\n",
       "      <td>0.099867</td>\n",
       "      <td>9.284190e+03</td>\n",
       "      <td>9.986680e+06</td>\n",
       "    </tr>\n",
       "    <tr>\n",
       "      <th>25%</th>\n",
       "      <td>361.250000</td>\n",
       "      <td>10.390750</td>\n",
       "      <td>9.677340</td>\n",
       "      <td>10.037860</td>\n",
       "      <td>10.068350</td>\n",
       "      <td>5.089148e+07</td>\n",
       "      <td>1.157863e+09</td>\n",
       "    </tr>\n",
       "    <tr>\n",
       "      <th>50%</th>\n",
       "      <td>721.500000</td>\n",
       "      <td>16.592114</td>\n",
       "      <td>15.727250</td>\n",
       "      <td>16.210328</td>\n",
       "      <td>16.210569</td>\n",
       "      <td>1.981830e+08</td>\n",
       "      <td>2.451099e+09</td>\n",
       "    </tr>\n",
       "    <tr>\n",
       "      <th>75%</th>\n",
       "      <td>1081.750000</td>\n",
       "      <td>28.240910</td>\n",
       "      <td>26.963038</td>\n",
       "      <td>27.669888</td>\n",
       "      <td>27.691107</td>\n",
       "      <td>3.942378e+08</td>\n",
       "      <td>4.061743e+09</td>\n",
       "    </tr>\n",
       "    <tr>\n",
       "      <th>max</th>\n",
       "      <td>1442.000000</td>\n",
       "      <td>690.931965</td>\n",
       "      <td>631.465298</td>\n",
       "      <td>676.315905</td>\n",
       "      <td>675.684077</td>\n",
       "      <td>1.798295e+10</td>\n",
       "      <td>1.036722e+11</td>\n",
       "    </tr>\n",
       "  </tbody>\n",
       "</table>\n",
       "</div>"
      ],
      "text/plain": [
       "               SNo         High          Low         Open        Close  \\\n",
       "count  1442.000000  1442.000000  1442.000000  1442.000000  1442.000000   \n",
       "mean    721.500000    54.764100    49.165813    52.028231    52.250308   \n",
       "std     416.413857   121.675817   108.118454   115.170060   115.390917   \n",
       "min       1.000000     0.101211     0.096109     0.099721     0.099867   \n",
       "25%     361.250000    10.390750     9.677340    10.037860    10.068350   \n",
       "50%     721.500000    16.592114    15.727250    16.210328    16.210569   \n",
       "75%    1081.750000    28.240910    26.963038    27.669888    27.691107   \n",
       "max    1442.000000   690.931965   631.465298   676.315905   675.684077   \n",
       "\n",
       "             Volume     Marketcap  \n",
       "count  1.442000e+03  1.442000e+03  \n",
       "mean   6.269804e+08  7.835575e+09  \n",
       "std    1.479775e+09  1.780041e+10  \n",
       "min    9.284190e+03  9.986680e+06  \n",
       "25%    5.089148e+07  1.157863e+09  \n",
       "50%    1.981830e+08  2.451099e+09  \n",
       "75%    3.942378e+08  4.061743e+09  \n",
       "max    1.798295e+10  1.036722e+11  "
      ]
     },
     "execution_count": 6,
     "metadata": {},
     "output_type": "execute_result"
    }
   ],
   "source": [
    "df.describe()"
   ]
  },
  {
   "attachments": {},
   "cell_type": "markdown",
   "metadata": {},
   "source": [
    "The above output generates statistical information for each numeric column:\n",
    "\n",
    "count: number of non-missing values,\n",
    "mean: arithmetic mean (average),\n",
    "std: standard deviation,\n",
    "min: minimum value,\n",
    "25%: first quartile (25th perce,ntile),\n",
    "50%: median (50th percentile),\n",
    "75%: third quartile (75th perce,ntile),\n",
    "max: maximum value"
   ]
  },
  {
   "attachments": {},
   "cell_type": "markdown",
   "metadata": {},
   "source": [
    "DATA PRE-PROCESSING"
   ]
  },
  {
   "cell_type": "code",
   "execution_count": 3,
   "metadata": {},
   "outputs": [
    {
     "data": {
      "text/plain": [
       "SNo          0\n",
       "Name         0\n",
       "Symbol       0\n",
       "Date         0\n",
       "High         0\n",
       "Low          0\n",
       "Open         0\n",
       "Close        0\n",
       "Volume       0\n",
       "Marketcap    0\n",
       "dtype: int64"
      ]
     },
     "execution_count": 3,
     "metadata": {},
     "output_type": "execute_result"
    }
   ],
   "source": [
    "df.isna().sum()"
   ]
  },
  {
   "attachments": {},
   "cell_type": "markdown",
   "metadata": {},
   "source": [
    "As from above output it is shown that the data has zero null values. "
   ]
  },
  {
   "cell_type": "code",
   "execution_count": 4,
   "metadata": {},
   "outputs": [
    {
     "data": {
      "text/html": [
       "<div>\n",
       "<style scoped>\n",
       "    .dataframe tbody tr th:only-of-type {\n",
       "        vertical-align: middle;\n",
       "    }\n",
       "\n",
       "    .dataframe tbody tr th {\n",
       "        vertical-align: top;\n",
       "    }\n",
       "\n",
       "    .dataframe thead th {\n",
       "        text-align: right;\n",
       "    }\n",
       "</style>\n",
       "<table border=\"1\" class=\"dataframe\">\n",
       "  <thead>\n",
       "    <tr style=\"text-align: right;\">\n",
       "      <th></th>\n",
       "      <th>Date</th>\n",
       "      <th>High</th>\n",
       "      <th>Low</th>\n",
       "      <th>Open</th>\n",
       "      <th>Close</th>\n",
       "      <th>Volume</th>\n",
       "      <th>Marketcap</th>\n",
       "    </tr>\n",
       "  </thead>\n",
       "  <tbody>\n",
       "    <tr>\n",
       "      <th>0</th>\n",
       "      <td>2017-07-26 23:59:59</td>\n",
       "      <td>0.109013</td>\n",
       "      <td>0.099266</td>\n",
       "      <td>0.105893</td>\n",
       "      <td>0.105138</td>\n",
       "      <td>200395.0</td>\n",
       "      <td>10513800.0</td>\n",
       "    </tr>\n",
       "    <tr>\n",
       "      <th>1</th>\n",
       "      <td>2017-07-27 23:59:59</td>\n",
       "      <td>0.108479</td>\n",
       "      <td>0.100888</td>\n",
       "      <td>0.105108</td>\n",
       "      <td>0.107737</td>\n",
       "      <td>344499.0</td>\n",
       "      <td>10773700.0</td>\n",
       "    </tr>\n",
       "    <tr>\n",
       "      <th>2</th>\n",
       "      <td>2017-07-28 23:59:59</td>\n",
       "      <td>0.109019</td>\n",
       "      <td>0.101473</td>\n",
       "      <td>0.107632</td>\n",
       "      <td>0.104067</td>\n",
       "      <td>342568.0</td>\n",
       "      <td>10406700.0</td>\n",
       "    </tr>\n",
       "    <tr>\n",
       "      <th>3</th>\n",
       "      <td>2017-07-29 23:59:59</td>\n",
       "      <td>0.111264</td>\n",
       "      <td>0.101108</td>\n",
       "      <td>0.104782</td>\n",
       "      <td>0.107811</td>\n",
       "      <td>340218.0</td>\n",
       "      <td>10781100.0</td>\n",
       "    </tr>\n",
       "    <tr>\n",
       "      <th>4</th>\n",
       "      <td>2017-07-30 23:59:59</td>\n",
       "      <td>0.108138</td>\n",
       "      <td>0.103162</td>\n",
       "      <td>0.107935</td>\n",
       "      <td>0.106414</td>\n",
       "      <td>224261.0</td>\n",
       "      <td>10641400.0</td>\n",
       "    </tr>\n",
       "  </tbody>\n",
       "</table>\n",
       "</div>"
      ],
      "text/plain": [
       "                  Date      High       Low      Open     Close    Volume  \\\n",
       "0  2017-07-26 23:59:59  0.109013  0.099266  0.105893  0.105138  200395.0   \n",
       "1  2017-07-27 23:59:59  0.108479  0.100888  0.105108  0.107737  344499.0   \n",
       "2  2017-07-28 23:59:59  0.109019  0.101473  0.107632  0.104067  342568.0   \n",
       "3  2017-07-29 23:59:59  0.111264  0.101108  0.104782  0.107811  340218.0   \n",
       "4  2017-07-30 23:59:59  0.108138  0.103162  0.107935  0.106414  224261.0   \n",
       "\n",
       "    Marketcap  \n",
       "0  10513800.0  \n",
       "1  10773700.0  \n",
       "2  10406700.0  \n",
       "3  10781100.0  \n",
       "4  10641400.0  "
      ]
     },
     "execution_count": 4,
     "metadata": {},
     "output_type": "execute_result"
    }
   ],
   "source": [
    "df.drop([\"SNo\", \"Name\", \"Symbol\"], axis = 1,inplace= True)\n",
    "df.head()"
   ]
  },
  {
   "attachments": {},
   "cell_type": "markdown",
   "metadata": {},
   "source": [
    "In the above step we dropped unnecessary columns."
   ]
  },
  {
   "attachments": {},
   "cell_type": "markdown",
   "metadata": {},
   "source": [
    "FEATURE ENGINEERING AND DATA VISUALIZATION"
   ]
  },
  {
   "cell_type": "code",
   "execution_count": 5,
   "metadata": {},
   "outputs": [
    {
     "data": {
      "text/html": [
       "<div>\n",
       "<style scoped>\n",
       "    .dataframe tbody tr th:only-of-type {\n",
       "        vertical-align: middle;\n",
       "    }\n",
       "\n",
       "    .dataframe tbody tr th {\n",
       "        vertical-align: top;\n",
       "    }\n",
       "\n",
       "    .dataframe thead th {\n",
       "        text-align: right;\n",
       "    }\n",
       "</style>\n",
       "<table border=\"1\" class=\"dataframe\">\n",
       "  <thead>\n",
       "    <tr style=\"text-align: right;\">\n",
       "      <th></th>\n",
       "      <th>Date</th>\n",
       "      <th>High</th>\n",
       "      <th>Low</th>\n",
       "      <th>Open</th>\n",
       "      <th>Close</th>\n",
       "      <th>Volume</th>\n",
       "      <th>Marketcap</th>\n",
       "    </tr>\n",
       "  </thead>\n",
       "  <tbody>\n",
       "    <tr>\n",
       "      <th>0</th>\n",
       "      <td>2017-07-26</td>\n",
       "      <td>0.109013</td>\n",
       "      <td>0.099266</td>\n",
       "      <td>0.105893</td>\n",
       "      <td>0.105138</td>\n",
       "      <td>200395.0</td>\n",
       "      <td>10513800.0</td>\n",
       "    </tr>\n",
       "    <tr>\n",
       "      <th>1</th>\n",
       "      <td>2017-07-27</td>\n",
       "      <td>0.108479</td>\n",
       "      <td>0.100888</td>\n",
       "      <td>0.105108</td>\n",
       "      <td>0.107737</td>\n",
       "      <td>344499.0</td>\n",
       "      <td>10773700.0</td>\n",
       "    </tr>\n",
       "    <tr>\n",
       "      <th>2</th>\n",
       "      <td>2017-07-28</td>\n",
       "      <td>0.109019</td>\n",
       "      <td>0.101473</td>\n",
       "      <td>0.107632</td>\n",
       "      <td>0.104067</td>\n",
       "      <td>342568.0</td>\n",
       "      <td>10406700.0</td>\n",
       "    </tr>\n",
       "    <tr>\n",
       "      <th>3</th>\n",
       "      <td>2017-07-29</td>\n",
       "      <td>0.111264</td>\n",
       "      <td>0.101108</td>\n",
       "      <td>0.104782</td>\n",
       "      <td>0.107811</td>\n",
       "      <td>340218.0</td>\n",
       "      <td>10781100.0</td>\n",
       "    </tr>\n",
       "    <tr>\n",
       "      <th>4</th>\n",
       "      <td>2017-07-30</td>\n",
       "      <td>0.108138</td>\n",
       "      <td>0.103162</td>\n",
       "      <td>0.107935</td>\n",
       "      <td>0.106414</td>\n",
       "      <td>224261.0</td>\n",
       "      <td>10641400.0</td>\n",
       "    </tr>\n",
       "  </tbody>\n",
       "</table>\n",
       "</div>"
      ],
      "text/plain": [
       "         Date      High       Low      Open     Close    Volume   Marketcap\n",
       "0  2017-07-26  0.109013  0.099266  0.105893  0.105138  200395.0  10513800.0\n",
       "1  2017-07-27  0.108479  0.100888  0.105108  0.107737  344499.0  10773700.0\n",
       "2  2017-07-28  0.109019  0.101473  0.107632  0.104067  342568.0  10406700.0\n",
       "3  2017-07-29  0.111264  0.101108  0.104782  0.107811  340218.0  10781100.0\n",
       "4  2017-07-30  0.108138  0.103162  0.107935  0.106414  224261.0  10641400.0"
      ]
     },
     "execution_count": 5,
     "metadata": {},
     "output_type": "execute_result"
    }
   ],
   "source": [
    "df[[\"Date\"]]= df.Date.apply(lambda x: pd.Series(str(x).split(\" \")[:1]))\n",
    "df.head()"
   ]
  },
  {
   "attachments": {},
   "cell_type": "markdown",
   "metadata": {},
   "source": [
    "In the above step we updated the date column in YY-MM-DD format"
   ]
  },
  {
   "cell_type": "code",
   "execution_count": 6,
   "metadata": {},
   "outputs": [
    {
     "data": {
      "text/html": [
       "<div>\n",
       "<style scoped>\n",
       "    .dataframe tbody tr th:only-of-type {\n",
       "        vertical-align: middle;\n",
       "    }\n",
       "\n",
       "    .dataframe tbody tr th {\n",
       "        vertical-align: top;\n",
       "    }\n",
       "\n",
       "    .dataframe thead th {\n",
       "        text-align: right;\n",
       "    }\n",
       "</style>\n",
       "<table border=\"1\" class=\"dataframe\">\n",
       "  <thead>\n",
       "    <tr style=\"text-align: right;\">\n",
       "      <th></th>\n",
       "      <th>Date</th>\n",
       "      <th>High</th>\n",
       "      <th>Low</th>\n",
       "      <th>Open</th>\n",
       "      <th>Close</th>\n",
       "      <th>Volume</th>\n",
       "      <th>Marketcap</th>\n",
       "      <th>Year</th>\n",
       "      <th>Month</th>\n",
       "    </tr>\n",
       "  </thead>\n",
       "  <tbody>\n",
       "    <tr>\n",
       "      <th>0</th>\n",
       "      <td>2017-07-26</td>\n",
       "      <td>0.109013</td>\n",
       "      <td>0.099266</td>\n",
       "      <td>0.105893</td>\n",
       "      <td>0.105138</td>\n",
       "      <td>200395.0</td>\n",
       "      <td>10513800.0</td>\n",
       "      <td>2017</td>\n",
       "      <td>07</td>\n",
       "    </tr>\n",
       "    <tr>\n",
       "      <th>1</th>\n",
       "      <td>2017-07-27</td>\n",
       "      <td>0.108479</td>\n",
       "      <td>0.100888</td>\n",
       "      <td>0.105108</td>\n",
       "      <td>0.107737</td>\n",
       "      <td>344499.0</td>\n",
       "      <td>10773700.0</td>\n",
       "      <td>2017</td>\n",
       "      <td>07</td>\n",
       "    </tr>\n",
       "    <tr>\n",
       "      <th>2</th>\n",
       "      <td>2017-07-28</td>\n",
       "      <td>0.109019</td>\n",
       "      <td>0.101473</td>\n",
       "      <td>0.107632</td>\n",
       "      <td>0.104067</td>\n",
       "      <td>342568.0</td>\n",
       "      <td>10406700.0</td>\n",
       "      <td>2017</td>\n",
       "      <td>07</td>\n",
       "    </tr>\n",
       "    <tr>\n",
       "      <th>3</th>\n",
       "      <td>2017-07-29</td>\n",
       "      <td>0.111264</td>\n",
       "      <td>0.101108</td>\n",
       "      <td>0.104782</td>\n",
       "      <td>0.107811</td>\n",
       "      <td>340218.0</td>\n",
       "      <td>10781100.0</td>\n",
       "      <td>2017</td>\n",
       "      <td>07</td>\n",
       "    </tr>\n",
       "    <tr>\n",
       "      <th>4</th>\n",
       "      <td>2017-07-30</td>\n",
       "      <td>0.108138</td>\n",
       "      <td>0.103162</td>\n",
       "      <td>0.107935</td>\n",
       "      <td>0.106414</td>\n",
       "      <td>224261.0</td>\n",
       "      <td>10641400.0</td>\n",
       "      <td>2017</td>\n",
       "      <td>07</td>\n",
       "    </tr>\n",
       "  </tbody>\n",
       "</table>\n",
       "</div>"
      ],
      "text/plain": [
       "         Date      High       Low      Open     Close    Volume   Marketcap  \\\n",
       "0  2017-07-26  0.109013  0.099266  0.105893  0.105138  200395.0  10513800.0   \n",
       "1  2017-07-27  0.108479  0.100888  0.105108  0.107737  344499.0  10773700.0   \n",
       "2  2017-07-28  0.109019  0.101473  0.107632  0.104067  342568.0  10406700.0   \n",
       "3  2017-07-29  0.111264  0.101108  0.104782  0.107811  340218.0  10781100.0   \n",
       "4  2017-07-30  0.108138  0.103162  0.107935  0.106414  224261.0  10641400.0   \n",
       "\n",
       "   Year Month  \n",
       "0  2017    07  \n",
       "1  2017    07  \n",
       "2  2017    07  \n",
       "3  2017    07  \n",
       "4  2017    07  "
      ]
     },
     "execution_count": 6,
     "metadata": {},
     "output_type": "execute_result"
    }
   ],
   "source": [
    "df[[\"Year\",\"Month\"]]= df.Date.apply(lambda x: pd.Series(str(x).split(\"-\")[:2]))\n",
    "df.head()"
   ]
  },
  {
   "attachments": {},
   "cell_type": "markdown",
   "metadata": {},
   "source": [
    "In the above step we extract two features Year and Month from Date column"
   ]
  },
  {
   "cell_type": "code",
   "execution_count": 7,
   "metadata": {},
   "outputs": [],
   "source": [
    "df.Year = df.Year.astype(int)\n",
    "df.Month = df.Month.astype(int)"
   ]
  },
  {
   "attachments": {},
   "cell_type": "markdown",
   "metadata": {},
   "source": [
    "In the above step we changed the data type of Year and Month column from string to int"
   ]
  },
  {
   "cell_type": "code",
   "execution_count": 11,
   "metadata": {},
   "outputs": [
    {
     "data": {
      "text/plain": [
       "Date          object\n",
       "High         float64\n",
       "Low          float64\n",
       "Open         float64\n",
       "Close        float64\n",
       "Volume       float64\n",
       "Marketcap    float64\n",
       "Year           int32\n",
       "Month          int32\n",
       "dtype: object"
      ]
     },
     "execution_count": 11,
     "metadata": {},
     "output_type": "execute_result"
    }
   ],
   "source": [
    "df.dtypes"
   ]
  },
  {
   "attachments": {},
   "cell_type": "markdown",
   "metadata": {},
   "source": [
    "It is clearly shown that the data types are changed"
   ]
  },
  {
   "attachments": {},
   "cell_type": "markdown",
   "metadata": {},
   "source": [
    "Now, firstly we will analyze the closing price as we need it to perform the prediction."
   ]
  },
  {
   "cell_type": "code",
   "execution_count": 13,
   "metadata": {},
   "outputs": [
    {
     "data": {
      "text/plain": [
       "Text(0.5, 1.0, 'Date vs Close')"
      ]
     },
     "execution_count": 13,
     "metadata": {},
     "output_type": "execute_result"
    },
    {
     "data": {
      "image/png": "[encoded data removed]",
      "text/plain": [
       "<Figure size 2000x700 with 1 Axes>"
      ]
     },
     "metadata": {},
     "output_type": "display_data"
    }
   ],
   "source": [
    "plt.figure(figsize=(20, 7))\n",
    "x = df.groupby('Date')['Close'].mean()\n",
    "x.plot(linewidth=2.5, color='b')\n",
    "plt.xlabel('Date')\n",
    "plt.ylabel('Volume')\n",
    "plt.title(\"Date vs Close\")"
   ]
  },
  {
   "attachments": {},
   "cell_type": "markdown",
   "metadata": {},
   "source": [
    "This plot visualize the daily average closing prices of Binance Coin.\n",
    "The prices of the Bitcoin stocks are showing an upward trend as depicted by the plot of the closing price of the Binance Coin\n"
   ]
  },
  {
   "cell_type": "code",
   "execution_count": 14,
   "metadata": {},
   "outputs": [
    {
     "data": {
      "text/plain": [
       "array(['2018', '2019', '2020', '2021'], dtype='<U4')"
      ]
     },
     "execution_count": 14,
     "metadata": {},
     "output_type": "execute_result"
    }
   ],
   "source": [
    "lst = list(df.Year.unique())\n",
    "Unique_Year = np.array(lst[1:])\n",
    "Unique_Year"
   ]
  },
  {
   "attachments": {},
   "cell_type": "markdown",
   "metadata": {},
   "source": [
    "We have created a list of unique categories in the Year column and then converted the list into numpy array. "
   ]
  },
  {
   "cell_type": "code",
   "execution_count": 15,
   "metadata": {},
   "outputs": [
    {
     "data": {
      "text/plain": [
       "array([['2018', '2019'],\n",
       "       ['2020', '2021']], dtype='<U4')"
      ]
     },
     "execution_count": 15,
     "metadata": {},
     "output_type": "execute_result"
    }
   ],
   "source": [
    "Unique_Year = Unique_Year.reshape(2,2)\n",
    "Unique_Year"
   ]
  },
  {
   "attachments": {},
   "cell_type": "markdown",
   "metadata": {},
   "source": [
    "In the above code we reshape the array so that we can easily plot the lineplots for visualization."
   ]
  },
  {
   "cell_type": "code",
   "execution_count": 16,
   "metadata": {},
   "outputs": [
    {
     "data": {
      "text/plain": [
       "Text(0.5, 1.0, 'Relation Between Open and Close in Year 2017')"
      ]
     },
     "execution_count": 16,
     "metadata": {},
     "output_type": "execute_result"
    },
    {
     "data": {
      "image/png": "[encoded data removed]",
      "text/plain": [
       "<Figure size 640x480 with 1 Axes>"
      ]
     },
     "metadata": {},
     "output_type": "display_data"
    }
   ],
   "source": [
    "sns.lineplot(data = df[df.Year == 2017], x = \"Open\", y = \"Close\")\n",
    "plt.title(\"Relation Between Open and Close in Year 2017\")"
   ]
  },
  {
   "cell_type": "code",
   "execution_count": 17,
   "metadata": {},
   "outputs": [
    {
     "data": {
      "image/png": "[encoded data removed]",
      "text/plain": [
       "<Figure size 640x480 with 4 Axes>"
      ]
     },
     "metadata": {},
     "output_type": "display_data"
    }
   ],
   "source": [
    "fig, axes = plt.subplots(2,2)\n",
    "fig.suptitle(\"Relation Between Open and Close\")\n",
    "\n",
    "for row in range(0,2):\n",
    "    for col in range(0, 2):\n",
    "        fig.tight_layout()\n",
    "        sns.lineplot(data = df[df.Year == Unique_Year[row, col]], x = \"Open\", y = \"Close\", ax = axes[row, col])\n",
    "        axes[row, col].set_title(f'Year {Unique_Year[row, col]}')\n"
   ]
  },
  {
   "attachments": {},
   "cell_type": "markdown",
   "metadata": {},
   "source": [
    "The above line plots are showing the relationship between the opening and closing prices of Binance Coin.A linear trend between the opening and closing prices of Binance Coin (BNB) on a line plot indicates that there is a systematic relationship between these two variables.\n",
    "The line slopes upwards from left to right, it suggests that as the opening price increases, the closing price tends to increase as well. "
   ]
  },
  {
   "cell_type": "code",
   "execution_count": 18,
   "metadata": {},
   "outputs": [],
   "source": [
    "features = [\"Open\", \"High\", \"Low\",\"Volume\"]"
   ]
  },
  {
   "cell_type": "code",
   "execution_count": 19,
   "metadata": {},
   "outputs": [
    {
     "name": "stderr",
     "output_type": "stream",
     "text": [
      "C:\\Users\\Preeti\\AppData\\Local\\Temp\\ipykernel_16356\\1913118995.py:4: MatplotlibDeprecationWarning: Auto-removal of overlapping axes is deprecated since 3.6 and will be removed two minor releases later; explicitly call ax.remove() as needed.\n",
      "  plt.subplot(2,2,i+1)\n"
     ]
    },
    {
     "data": {
      "image/png": "[encoded data removed]",
      "text/plain": [
       "<Figure size 2000x1000 with 4 Axes>"
      ]
     },
     "metadata": {},
     "output_type": "display_data"
    }
   ],
   "source": [
    "plt.subplots(figsize=(20,10))\n",
    "# plt.title(\"Distribution of Features\")\n",
    "for i, col in enumerate(features):\n",
    "  plt.subplot(2,2,i+1)\n",
    "  sns.boxplot(df[col])\n",
    "  plt.title(col)\n",
    "plt.show()"
   ]
  },
  {
   "attachments": {},
   "cell_type": "markdown",
   "metadata": {},
   "source": [
    "The above boxplots help us to visualize the distribution of four features (\"Open\", \"High\", \"Low\" and \"Volume\").\n",
    "There are so many outliers in the data which means that the prices of the Binance Coin have varied hugely in a very short period of time. Let’s check this with the help of a barplot. "
   ]
  },
  {
   "cell_type": "code",
   "execution_count": 20,
   "metadata": {},
   "outputs": [
    {
     "name": "stderr",
     "output_type": "stream",
     "text": [
      "C:\\Users\\Preeti\\AppData\\Local\\Temp\\ipykernel_16356\\2723327445.py:1: FutureWarning: The default value of numeric_only in DataFrameGroupBy.mean is deprecated. In a future version, numeric_only will default to False. Either specify numeric_only or select only columns which should be valid for the function.\n",
      "  data_grouped = df.groupby('Year').mean()\n",
      "C:\\Users\\Preeti\\AppData\\Local\\Temp\\ipykernel_16356\\2723327445.py:5: MatplotlibDeprecationWarning: Auto-removal of overlapping axes is deprecated since 3.6 and will be removed two minor releases later; explicitly call ax.remove() as needed.\n",
      "  plt.subplot(2,2,i+1)\n"
     ]
    },
    {
     "data": {
      "image/png": "[encoded data removed]",
      "text/plain": [
       "<Figure size 2000x1500 with 4 Axes>"
      ]
     },
     "metadata": {},
     "output_type": "display_data"
    }
   ],
   "source": [
    "data_grouped = df.groupby('Year').mean()\n",
    "plt.subplots(figsize=(20,15))\n",
    "for i, col in enumerate(['Open', 'High', 'Low', 'Volume']):\n",
    "  fig.tight_layout()\n",
    "  plt.subplot(2,2,i+1)\n",
    "  data_grouped[col].plot.bar()\n",
    "  plt.title(col)\n",
    "plt.show()"
   ]
  },
  {
   "attachments": {},
   "cell_type": "markdown",
   "metadata": {},
   "source": [
    "From the above bar plots we can observe why there are so many outliers in the data as the prices of binancecoin have exploded in the year 2021."
   ]
  },
  {
   "cell_type": "code",
   "execution_count": 9,
   "metadata": {},
   "outputs": [],
   "source": [
    "x = df[[\"High\",\"Low\",\"Open\", \"Volume\"]]\n",
    "y = df[\"Close\"]\n",
    "x_train, x_test, y_train, y_test = train_test_split(x,y,test_size = 0.25, random_state = 42)"
   ]
  },
  {
   "attachments": {},
   "cell_type": "markdown",
   "metadata": {},
   "source": [
    "In the above step we split the data into train and test data."
   ]
  },
  {
   "attachments": {},
   "cell_type": "markdown",
   "metadata": {},
   "source": [
    "x_train consists the features which we are going to use to train the model"
   ]
  },
  {
   "cell_type": "code",
   "execution_count": 22,
   "metadata": {},
   "outputs": [
    {
     "data": {
      "text/html": [
       "<div>\n",
       "<style scoped>\n",
       "    .dataframe tbody tr th:only-of-type {\n",
       "        vertical-align: middle;\n",
       "    }\n",
       "\n",
       "    .dataframe tbody tr th {\n",
       "        vertical-align: top;\n",
       "    }\n",
       "\n",
       "    .dataframe thead th {\n",
       "        text-align: right;\n",
       "    }\n",
       "</style>\n",
       "<table border=\"1\" class=\"dataframe\">\n",
       "  <thead>\n",
       "    <tr style=\"text-align: right;\">\n",
       "      <th></th>\n",
       "      <th>High</th>\n",
       "      <th>Low</th>\n",
       "      <th>Open</th>\n",
       "      <th>Volume</th>\n",
       "    </tr>\n",
       "  </thead>\n",
       "  <tbody>\n",
       "    <tr>\n",
       "      <th>621</th>\n",
       "      <td>19.090576</td>\n",
       "      <td>18.073281</td>\n",
       "      <td>19.079069</td>\n",
       "      <td>1.782553e+08</td>\n",
       "    </tr>\n",
       "    <tr>\n",
       "      <th>1221</th>\n",
       "      <td>29.620145</td>\n",
       "      <td>27.985647</td>\n",
       "      <td>28.474954</td>\n",
       "      <td>3.382753e+08</td>\n",
       "    </tr>\n",
       "    <tr>\n",
       "      <th>630</th>\n",
       "      <td>19.889504</td>\n",
       "      <td>19.425251</td>\n",
       "      <td>19.825440</td>\n",
       "      <td>1.865630e+08</td>\n",
       "    </tr>\n",
       "    <tr>\n",
       "      <th>296</th>\n",
       "      <td>16.220501</td>\n",
       "      <td>12.053100</td>\n",
       "      <td>12.361400</td>\n",
       "      <td>2.432610e+08</td>\n",
       "    </tr>\n",
       "    <tr>\n",
       "      <th>1411</th>\n",
       "      <td>400.041176</td>\n",
       "      <td>382.344961</td>\n",
       "      <td>390.236724</td>\n",
       "      <td>2.101918e+09</td>\n",
       "    </tr>\n",
       "  </tbody>\n",
       "</table>\n",
       "</div>"
      ],
      "text/plain": [
       "            High         Low        Open        Volume\n",
       "621    19.090576   18.073281   19.079069  1.782553e+08\n",
       "1221   29.620145   27.985647   28.474954  3.382753e+08\n",
       "630    19.889504   19.425251   19.825440  1.865630e+08\n",
       "296    16.220501   12.053100   12.361400  2.432610e+08\n",
       "1411  400.041176  382.344961  390.236724  2.101918e+09"
      ]
     },
     "execution_count": 22,
     "metadata": {},
     "output_type": "execute_result"
    }
   ],
   "source": [
    "x_train.head()"
   ]
  },
  {
   "attachments": {},
   "cell_type": "markdown",
   "metadata": {},
   "source": [
    "x_test consists the features which we are going to used for test the model"
   ]
  },
  {
   "cell_type": "code",
   "execution_count": 23,
   "metadata": {},
   "outputs": [
    {
     "data": {
      "text/html": [
       "<div>\n",
       "<style scoped>\n",
       "    .dataframe tbody tr th:only-of-type {\n",
       "        vertical-align: middle;\n",
       "    }\n",
       "\n",
       "    .dataframe tbody tr th {\n",
       "        vertical-align: top;\n",
       "    }\n",
       "\n",
       "    .dataframe thead th {\n",
       "        text-align: right;\n",
       "    }\n",
       "</style>\n",
       "<table border=\"1\" class=\"dataframe\">\n",
       "  <thead>\n",
       "    <tr style=\"text-align: right;\">\n",
       "      <th></th>\n",
       "      <th>High</th>\n",
       "      <th>Low</th>\n",
       "      <th>Open</th>\n",
       "      <th>Volume</th>\n",
       "    </tr>\n",
       "  </thead>\n",
       "  <tbody>\n",
       "    <tr>\n",
       "      <th>411</th>\n",
       "      <td>9.708060</td>\n",
       "      <td>9.373060</td>\n",
       "      <td>9.576010</td>\n",
       "      <td>1.242790e+07</td>\n",
       "    </tr>\n",
       "    <tr>\n",
       "      <th>599</th>\n",
       "      <td>16.097116</td>\n",
       "      <td>15.682742</td>\n",
       "      <td>16.089241</td>\n",
       "      <td>1.316871e+08</td>\n",
       "    </tr>\n",
       "    <tr>\n",
       "      <th>551</th>\n",
       "      <td>7.189432</td>\n",
       "      <td>6.106819</td>\n",
       "      <td>7.091497</td>\n",
       "      <td>8.242720e+07</td>\n",
       "    </tr>\n",
       "    <tr>\n",
       "      <th>65</th>\n",
       "      <td>1.366980</td>\n",
       "      <td>1.135460</td>\n",
       "      <td>1.366980</td>\n",
       "      <td>8.474270e+06</td>\n",
       "    </tr>\n",
       "    <tr>\n",
       "      <th>377</th>\n",
       "      <td>13.908800</td>\n",
       "      <td>13.128600</td>\n",
       "      <td>13.658500</td>\n",
       "      <td>4.511950e+07</td>\n",
       "    </tr>\n",
       "  </tbody>\n",
       "</table>\n",
       "</div>"
      ],
      "text/plain": [
       "          High        Low       Open        Volume\n",
       "411   9.708060   9.373060   9.576010  1.242790e+07\n",
       "599  16.097116  15.682742  16.089241  1.316871e+08\n",
       "551   7.189432   6.106819   7.091497  8.242720e+07\n",
       "65    1.366980   1.135460   1.366980  8.474270e+06\n",
       "377  13.908800  13.128600  13.658500  4.511950e+07"
      ]
     },
     "execution_count": 23,
     "metadata": {},
     "output_type": "execute_result"
    }
   ],
   "source": [
    "x_test.head()"
   ]
  },
  {
   "attachments": {},
   "cell_type": "markdown",
   "metadata": {},
   "source": [
    "y_train consists the target which we are going to use to train the model"
   ]
  },
  {
   "cell_type": "code",
   "execution_count": 24,
   "metadata": {},
   "outputs": [
    {
     "data": {
      "text/plain": [
       "621      18.113703\n",
       "1221     29.143911\n",
       "630      19.603350\n",
       "296      15.135400\n",
       "1411    393.820213\n",
       "Name: Close, dtype: float64"
      ]
     },
     "execution_count": 24,
     "metadata": {},
     "output_type": "execute_result"
    }
   ],
   "source": [
    "y_train.head()"
   ]
  },
  {
   "attachments": {},
   "cell_type": "markdown",
   "metadata": {},
   "source": [
    "y_test consists the target which we are going to use to test the model"
   ]
  },
  {
   "cell_type": "code",
   "execution_count": 25,
   "metadata": {},
   "outputs": [
    {
     "data": {
      "text/plain": [
       "411     9.524870\n",
       "599    15.761146\n",
       "551     6.206182\n",
       "65      1.266240\n",
       "377    13.146100\n",
       "Name: Close, dtype: float64"
      ]
     },
     "execution_count": 25,
     "metadata": {},
     "output_type": "execute_result"
    }
   ],
   "source": [
    "y_test.head()"
   ]
  },
  {
   "attachments": {},
   "cell_type": "markdown",
   "metadata": {},
   "source": [
    "MODEL SELECTION"
   ]
  },
  {
   "attachments": {},
   "cell_type": "markdown",
   "metadata": {},
   "source": [
    "Decision Tree"
   ]
  },
  {
   "cell_type": "code",
   "execution_count": 11,
   "metadata": {},
   "outputs": [
    {
     "data": {
      "text/plain": [
       "array([9.71504000e+00, 1.60475590e+01, 7.10050020e+00, 1.37787998e+00,\n",
       "       1.35290003e+01, 3.03295877e+02, 1.01130933e+01, 2.78839306e+01,\n",
       "       1.44476004e+01, 9.65229034e+00, 9.69211006e+00, 2.02607926e+01,\n",
       "       2.02060461e+01, 1.57410538e+01, 1.60267592e+01, 3.33609457e+01,\n",
       "       1.35402002e+01, 1.46602001e+01, 9.36122000e+00, 1.21801004e+01,\n",
       "       9.90758000e+00, 1.01130933e+01, 1.20199003e+01, 1.44476004e+01,\n",
       "       1.97583191e+01, 1.43751106e+01, 1.46602001e+01, 1.00178000e+01,\n",
       "       9.17059004e-01, 4.09189808e+01, 2.12646988e+01, 1.67095311e+01,\n",
       "       1.20199003e+01, 1.09660561e+01, 3.15874834e+01, 1.36604519e+01,\n",
       "       8.02425027e-01, 2.91016919e+01, 1.55052321e+01, 2.48527002e+00,\n",
       "       9.14190960e+00, 1.30587997e+01, 9.65095000e+00, 1.94534672e+01,\n",
       "       1.60267592e+01, 5.56875682e+00, 1.28357995e+00, 1.74847088e+01,\n",
       "       2.77048361e+01, 1.82109804e+01, 2.79358023e+02, 1.82541916e+01,\n",
       "       3.06595232e+01, 1.23869409e+01, 2.80641095e+01, 1.57579994e+00,\n",
       "       1.45173933e+01, 1.50626038e+01, 3.20073755e+01, 2.69854846e+02,\n",
       "       1.23869409e+01, 1.72474995e+01, 1.59227088e+01, 2.58043003e+00,\n",
       "       2.63258057e+01, 1.82485792e+01, 1.64009066e+01, 1.05655003e+00,\n",
       "       1.50626038e+01, 1.46526003e+01, 2.62211819e+01, 1.27416033e+01,\n",
       "       1.69197754e+01, 1.43373001e+00, 1.58092003e+01, 2.69191287e+02,\n",
       "       3.13927858e+01, 1.41643000e+01, 1.35707791e+01, 1.58626745e+01,\n",
       "       1.52799776e+01, 1.28357995e+00, 3.04901943e+01, 3.25005933e+01,\n",
       "       1.67111743e+01, 1.74353775e+01, 1.64219567e+01, 2.17824190e+01,\n",
       "       1.67047000e+00, 3.92571986e-01, 1.01103000e+01, 3.22626572e+01,\n",
       "       1.54869998e+00, 2.25489757e+01, 1.27591000e+01, 6.73816466e+00,\n",
       "       9.78081000e+00, 1.50626038e+01, 2.80434478e+01, 1.82109804e+01,\n",
       "       9.36122000e+00, 4.01359317e+01, 1.28580000e+01, 6.19347229e+02,\n",
       "       1.35290003e+01, 2.77053108e+01, 1.35402002e+01, 2.94490294e+02,\n",
       "       1.35402002e+01, 2.78351698e+01, 3.03912909e+01, 1.52919624e+01,\n",
       "       1.82109804e+01, 6.70502996e+00, 2.91016919e+01, 2.99250713e+01,\n",
       "       9.93602000e+00, 2.28288704e+01, 2.62969584e+01, 1.77154081e+01,\n",
       "       1.39254999e+01, 5.97696456e+00, 1.96371900e+01, 9.71463000e+00,\n",
       "       3.01176042e+01, 1.08614004e+00, 1.16403999e+01, 5.34663295e+00,\n",
       "       1.14412209e+01, 1.48787438e+01, 1.56979001e+00, 1.45658790e+01,\n",
       "       1.76221792e+01, 3.67655794e+02, 2.22188567e+01, 3.09383598e+01,\n",
       "       3.29222970e+01, 1.60517810e+01, 2.16146006e+01, 1.53095562e+01,\n",
       "       5.34577691e+02, 3.20647269e+01, 2.56825722e+01, 1.09310999e+01,\n",
       "       1.05190000e+01, 9.98200035e+00, 2.03101993e+00, 1.91529004e+01,\n",
       "       1.13794000e+01, 6.07527260e+00, 1.26057997e+01, 2.80434478e+01,\n",
       "       2.30807534e+01, 2.20550106e+01, 9.71658000e+00, 1.32086364e+01,\n",
       "       3.07732096e+02, 1.30587997e+01, 1.06598997e+01, 1.26057997e+01,\n",
       "       6.31352007e+02, 3.15874834e+01, 1.04382000e+01, 6.07534184e+00,\n",
       "       3.15157365e+01, 1.82485792e+01, 2.08574462e+01, 2.30807534e+01,\n",
       "       1.29557002e+00, 1.66395935e+01, 1.81151355e+01, 2.81821721e+01,\n",
       "       2.80118789e+01, 2.03985118e+01, 3.31649742e+01, 2.09448870e+01,\n",
       "       1.52262001e+01, 9.98200035e+00, 3.20934802e+02, 5.22426360e+01,\n",
       "       2.59529996e+00, 8.04198027e-01, 2.72196003e+01, 1.60267592e+01,\n",
       "       1.39226999e+01, 1.41769000e+01, 3.03912909e+01, 4.56301154e+00,\n",
       "       3.07732096e+02, 9.36122000e+00, 1.07626000e+01, 1.64632138e+01,\n",
       "       1.70474103e+01, 8.99273968e+00, 2.25145395e+01, 1.31289005e+00,\n",
       "       4.28523495e+01, 1.20199003e+01, 8.18486000e+00, 9.52159454e+00,\n",
       "       1.53095562e+01, 1.52664236e+01, 2.30807534e+01, 2.99504094e+02,\n",
       "       1.02248001e+01, 2.69423037e+01, 1.68402167e+01, 1.44476004e+01,\n",
       "       2.00215013e+01, 3.52738519e+02, 2.70984439e+02, 1.57159512e+01,\n",
       "       2.93463221e+02, 3.09653695e+01, 1.69197754e+01, 2.94490294e+02,\n",
       "       1.88897043e+01, 1.02712000e+01, 2.34885430e+02, 2.72023905e+01,\n",
       "       9.90450954e+00, 1.65248333e+01, 1.45705996e+01, 7.02139974e-01,\n",
       "       2.30217516e+01, 1.26057997e+01, 6.26843577e+00, 1.50854033e+01,\n",
       "       1.99076998e+00, 1.57579994e+00, 1.76221792e+01, 1.09310999e+01,\n",
       "       5.97696456e+00, 3.16387218e+01, 2.77380954e+01, 2.23103963e+01,\n",
       "       5.49190106e+00, 1.45658790e+01, 1.70593392e+01, 9.74330000e+00,\n",
       "       2.25145395e+01, 2.22188567e+01, 2.80118789e+01, 1.33783998e+01,\n",
       "       1.97583191e+01, 3.11426494e+02, 8.99273968e+00, 1.01105003e+01,\n",
       "       5.71310539e+00, 8.70491028e+00, 1.05190000e+01, 1.99076998e+00,\n",
       "       2.80180209e+01, 1.56979001e+00, 3.90431846e+02, 1.82485792e+01,\n",
       "       2.12504317e+01, 1.67849004e+00, 3.01176042e+01, 2.79645941e+01,\n",
       "       1.75711530e+01, 7.27336004e+01, 1.72474995e+01, 5.75555000e+00,\n",
       "       1.57267603e+01, 1.50854033e+01, 2.69191287e+02, 3.50531020e+01,\n",
       "       2.64741677e+02, 1.06598997e+01, 1.41346000e+01, 1.52359949e+01,\n",
       "       1.98140638e+01, 1.45086002e+01, 3.01083028e+01, 5.60027019e+00,\n",
       "       1.94024262e+01, 2.22431065e+01, 3.67260615e+01, 1.25752001e+01,\n",
       "       1.57159512e+01, 1.82485792e+01, 2.16146006e+01, 1.25677996e+01,\n",
       "       1.31227005e+00, 5.98722647e+02, 1.23526001e+01, 1.75912157e+01,\n",
       "       2.93463221e+02, 1.01562000e+01, 1.72414761e+01, 3.04901943e+01,\n",
       "       3.16943299e+01, 1.01562000e+01, 1.54869998e+00, 6.89169475e+00,\n",
       "       6.63544950e+00, 1.07024002e+01, 3.09383598e+01, 3.30136497e+01,\n",
       "       2.35101026e+01, 2.19111440e+01, 1.82109804e+01, 5.60027019e+00,\n",
       "       3.11545605e+01, 2.35513791e+01, 2.81293041e+01, 2.09336996e+00,\n",
       "       9.14190960e+00, 1.45144145e+01, 2.10561065e+01, 3.45309636e+02,\n",
       "       1.14412209e+01, 2.09574404e+02, 1.26206999e+01, 1.45173933e+01,\n",
       "       1.01130933e+01, 1.74937742e+01, 1.58514189e+01, 1.43373001e+00,\n",
       "       1.08614004e+00, 9.38605040e+00, 1.32086364e+01, 2.01331397e+01,\n",
       "       3.62794646e+02, 1.64219567e+01, 3.02482347e+01, 2.89242821e+01,\n",
       "       9.62754000e+00, 1.41842003e+01, 2.30807534e+01, 2.80434478e+01,\n",
       "       1.81351991e+01, 1.01562000e+01, 2.80941042e+01, 2.46138244e+01,\n",
       "       3.02377980e+02, 1.20199003e+01, 1.02248001e+01, 6.89169475e+00,\n",
       "       6.14492443e+00, 1.35587861e+01, 1.20709000e+01, 2.79362006e+01,\n",
       "       2.19536207e+01, 3.25309403e+01, 1.38042879e+01, 9.12925121e+00,\n",
       "       4.53178482e+02, 6.19347229e+02, 2.54629933e+02, 1.82885461e+01,\n",
       "       9.17059004e-01, 1.38042879e+01, 2.39081089e+01, 1.48952999e+01,\n",
       "       5.16076963e+01, 1.56979001e+00, 4.81034254e+02, 1.31289005e+00,\n",
       "       2.81644506e+01])"
      ]
     },
     "execution_count": 11,
     "metadata": {},
     "output_type": "execute_result"
    }
   ],
   "source": [
    "regressor = DecisionTreeRegressor(random_state=0)\n",
    "regressor.fit(x_train,y_train)\n",
    "\n",
    "y_pred_dt = regressor.predict(x_test)\n",
    "y_pred_dt"
   ]
  },
  {
   "cell_type": "code",
   "execution_count": 12,
   "metadata": {},
   "outputs": [
    {
     "data": {
      "text/plain": [
       "0.9898591504874498"
      ]
     },
     "execution_count": 12,
     "metadata": {},
     "output_type": "execute_result"
    }
   ],
   "source": [
    "regressor.score(x_test, y_test, sample_weight=None)"
   ]
  },
  {
   "attachments": {},
   "cell_type": "markdown",
   "metadata": {},
   "source": [
    "Random Forest "
   ]
  },
  {
   "cell_type": "code",
   "execution_count": 14,
   "metadata": {},
   "outputs": [
    {
     "data": {
      "text/plain": [
       "array([9.63796040e+00, 1.59173408e+01, 6.80629420e+00, 1.26248021e+00,\n",
       "       1.35548044e+01, 3.03758772e+02, 1.04924758e+01, 2.82406327e+01,\n",
       "       1.47653301e+01, 9.56796975e+00, 9.22276366e+00, 2.04070005e+01,\n",
       "       2.03185612e+01, 1.56840254e+01, 1.62843275e+01, 3.40194900e+01,\n",
       "       1.35779728e+01, 1.41840188e+01, 9.31181743e+00, 1.20798767e+01,\n",
       "       1.01026970e+01, 1.01241813e+01, 1.17472344e+01, 1.50095058e+01,\n",
       "       1.97477308e+01, 1.42245139e+01, 1.39697288e+01, 1.00246935e+01,\n",
       "       8.29376036e-01, 4.08541997e+01, 2.11400127e+01, 1.67324507e+01,\n",
       "       1.14614459e+01, 1.08165076e+01, 3.23384959e+01, 1.34786724e+01,\n",
       "       8.76767014e-01, 2.85281995e+01, 1.53883714e+01, 2.53873181e+00,\n",
       "       9.38340175e+00, 1.32444963e+01, 9.87237821e+00, 1.93255387e+01,\n",
       "       1.64111495e+01, 5.56693856e+00, 1.37946619e+00, 1.76205706e+01,\n",
       "       2.77115124e+01, 1.83121874e+01, 2.64972737e+02, 1.82930984e+01,\n",
       "       3.07953166e+01, 1.31432494e+01, 2.81612497e+01, 1.81756561e+00,\n",
       "       1.49041128e+01, 1.49571009e+01, 3.09057866e+01, 2.60236531e+02,\n",
       "       1.28500147e+01, 1.66814851e+01, 1.58702972e+01, 2.70726305e+00,\n",
       "       2.74140462e+01, 1.85186616e+01, 1.63338345e+01, 1.17759655e+00,\n",
       "       1.51151351e+01, 1.46191619e+01, 2.51625247e+01, 1.28202710e+01,\n",
       "       1.69533811e+01, 1.44732061e+00, 1.56790321e+01, 2.64713900e+02,\n",
       "       3.09126515e+01, 1.41666119e+01, 1.33395285e+01, 1.56907878e+01,\n",
       "       1.52723241e+01, 1.37007979e+00, 3.01938988e+01, 3.25929951e+01,\n",
       "       1.69153523e+01, 1.74072221e+01, 1.63725893e+01, 2.04661500e+01,\n",
       "       1.65729240e+00, 3.45287790e-01, 1.01315702e+01, 3.20808621e+01,\n",
       "       1.63888619e+00, 2.25075129e+01, 1.28791733e+01, 6.92195011e+00,\n",
       "       9.84722259e+00, 1.50036264e+01, 2.78995250e+01, 1.81800551e+01,\n",
       "       9.24454206e+00, 3.93145712e+01, 1.26293202e+01, 6.50179548e+02,\n",
       "       1.36102583e+01, 2.74465621e+01, 1.35702576e+01, 2.83775743e+02,\n",
       "       1.36112914e+01, 2.76974391e+01, 3.01457105e+01, 1.53472272e+01,\n",
       "       1.82483308e+01, 7.23808790e+00, 2.86999900e+01, 2.98911967e+01,\n",
       "       9.98120504e+00, 2.27722862e+01, 2.62390219e+01, 1.76539572e+01,\n",
       "       1.41365959e+01, 5.97938655e+00, 1.98717119e+01, 9.71559620e+00,\n",
       "       2.92592796e+01, 1.22958333e+00, 1.16633151e+01, 5.41853123e+00,\n",
       "       1.18133335e+01, 1.47002366e+01, 1.57587241e+00, 1.43147020e+01,\n",
       "       1.74574024e+01, 3.68689328e+02, 2.23395935e+01, 3.06829562e+01,\n",
       "       3.24521180e+01, 1.60113361e+01, 2.14271927e+01, 1.52842241e+01,\n",
       "       5.20747194e+02, 3.18988368e+01, 2.37366506e+01, 1.04856343e+01,\n",
       "       1.05922248e+01, 1.06361766e+01, 2.08405101e+00, 1.91534691e+01,\n",
       "       1.13484672e+01, 6.08661946e+00, 1.24320041e+01, 2.79613231e+01,\n",
       "       2.27221541e+01, 2.10858640e+01, 9.76218400e+00, 1.31993297e+01,\n",
       "       3.06894389e+02, 1.32046142e+01, 1.02370294e+01, 1.25264764e+01,\n",
       "       6.36692166e+02, 3.25591619e+01, 1.05145006e+01, 5.97504495e+00,\n",
       "       3.20935977e+01, 1.84509157e+01, 2.09808584e+01, 2.29532706e+01,\n",
       "       1.12793070e+00, 1.66110714e+01, 1.78939158e+01, 2.82149137e+01,\n",
       "       2.80229217e+01, 2.06220465e+01, 3.31093167e+01, 2.03080428e+01,\n",
       "       1.54361141e+01, 9.63264797e+00, 3.12874533e+02, 5.19076815e+01,\n",
       "       2.59608398e+00, 8.00673525e-01, 2.75902247e+01, 1.62425521e+01,\n",
       "       1.37188015e+01, 1.41536677e+01, 2.99884522e+01, 4.63387513e+00,\n",
       "       3.06361932e+02, 9.31575272e+00, 1.06795915e+01, 1.63816748e+01,\n",
       "       1.69306345e+01, 9.05005629e+00, 2.24308525e+01, 1.28073643e+00,\n",
       "       4.31533078e+01, 1.18366889e+01, 8.04597989e+00, 9.76697861e+00,\n",
       "       1.53698001e+01, 1.48672791e+01, 2.28272190e+01, 3.03038163e+02,\n",
       "       1.03652237e+01, 2.70035643e+01, 1.69654465e+01, 1.48980163e+01,\n",
       "       1.98348590e+01, 3.65007109e+02, 3.09788036e+02, 1.61481306e+01,\n",
       "       2.80525694e+02, 3.07803348e+01, 1.70821991e+01, 2.89744289e+02,\n",
       "       1.88755603e+01, 1.04092074e+01, 2.38005848e+02, 2.75955770e+01,\n",
       "       1.09778389e+01, 1.65787027e+01, 1.44833417e+01, 7.31783800e-01,\n",
       "       2.37444026e+01, 1.25332449e+01, 5.98430168e+00, 1.62671440e+01,\n",
       "       2.10861119e+00, 1.81234240e+00, 1.75838067e+01, 1.08740899e+01,\n",
       "       5.92522933e+00, 3.19667515e+01, 2.71748748e+01, 2.26606629e+01,\n",
       "       5.47082907e+00, 1.47465414e+01, 1.71272825e+01, 9.92887223e+00,\n",
       "       2.26035474e+01, 2.21708402e+01, 2.78812801e+01, 1.32160069e+01,\n",
       "       1.96284754e+01, 3.05311508e+02, 9.13571129e+00, 1.02162570e+01,\n",
       "       5.70855325e+00, 8.54304605e+00, 1.03678760e+01, 2.02630442e+00,\n",
       "       2.80725162e+01, 1.57274481e+00, 3.97878654e+02, 1.84443122e+01,\n",
       "       2.15194226e+01, 1.65765821e+00, 2.92675269e+01, 2.78208038e+01,\n",
       "       1.78273578e+01, 6.26408695e+01, 1.67695028e+01, 6.12521818e+00,\n",
       "       1.56916606e+01, 1.62926558e+01, 2.66595306e+02, 3.47836299e+01,\n",
       "       2.70917618e+02, 1.04876023e+01, 1.37499733e+01, 1.53866037e+01,\n",
       "       1.95924342e+01, 1.43207233e+01, 3.06282284e+01, 5.24659503e+00,\n",
       "       1.94819332e+01, 2.22175651e+01, 3.69302201e+01, 1.24884252e+01,\n",
       "       1.62225249e+01, 1.90496185e+01, 2.15588659e+01, 1.29274181e+01,\n",
       "       1.27379523e+00, 6.01079184e+02, 1.21590411e+01, 1.78182881e+01,\n",
       "       2.64923718e+02, 1.01734204e+01, 1.71524573e+01, 3.01526970e+01,\n",
       "       3.14204118e+01, 1.01858043e+01, 1.57405939e+00, 6.70391226e+00,\n",
       "       6.64986848e+00, 1.37845760e+01, 3.06835228e+01, 3.27983420e+01,\n",
       "       2.36290225e+01, 2.21663164e+01, 1.80598663e+01, 5.19747493e+00,\n",
       "       3.10720639e+01, 2.29337514e+01, 2.75459563e+01, 2.16870381e+00,\n",
       "       9.46657214e+00, 1.47857836e+01, 2.16352179e+01, 3.49219567e+02,\n",
       "       1.18056815e+01, 1.85043527e+02, 1.22820092e+01, 1.51727892e+01,\n",
       "       1.01804001e+01, 1.74289396e+01, 1.58038676e+01, 1.42908322e+00,\n",
       "       1.12804888e+00, 9.22106066e+00, 1.30957917e+01, 2.01311366e+01,\n",
       "       3.33108629e+02, 1.63764631e+01, 2.96988171e+01, 2.93178649e+01,\n",
       "       9.72256740e+00, 1.46538419e+01, 2.30994822e+01, 2.75088628e+01,\n",
       "       1.77546237e+01, 1.01584407e+01, 2.81047276e+01, 2.44196215e+01,\n",
       "       3.04237001e+02, 1.16097302e+01, 1.01868883e+01, 6.70931984e+00,\n",
       "       6.17812371e+00, 1.37038184e+01, 1.22507403e+01, 2.79541275e+01,\n",
       "       2.19708620e+01, 3.27767453e+01, 1.37250662e+01, 9.11732154e+00,\n",
       "       5.03388981e+02, 6.28134883e+02, 2.36595916e+02, 1.81986027e+01,\n",
       "       8.91309739e-01, 1.40416817e+01, 2.37043220e+01, 1.45557851e+01,\n",
       "       4.63403124e+01, 1.60791019e+00, 4.40128741e+02, 1.35527102e+00,\n",
       "       2.78452730e+01])"
      ]
     },
     "execution_count": 14,
     "metadata": {},
     "output_type": "execute_result"
    }
   ],
   "source": [
    "rf = RandomForestRegressor(n_estimators=50)\n",
    "rf.fit(x_train,y_train)\n",
    "y_pred_rf = rf.predict(x_test)\n",
    "y_pred_rf"
   ]
  },
  {
   "cell_type": "code",
   "execution_count": 20,
   "metadata": {},
   "outputs": [
    {
     "name": "stdout",
     "output_type": "stream",
     "text": [
      "0.9951055646963581\n",
      "1.6602811877241734\n",
      "51.2925210857613\n"
     ]
    }
   ],
   "source": [
    "print(r2_score(y_test,y_pred_rf))\n",
    "print(mean_absolute_error(y_test,y_pred_rf))\n",
    "print(mean_squared_error(y_test,y_pred_rf))"
   ]
  },
  {
   "attachments": {},
   "cell_type": "markdown",
   "metadata": {},
   "source": [
    "MODEL TRAINING"
   ]
  },
  {
   "attachments": {},
   "cell_type": "markdown",
   "metadata": {},
   "source": [
    "Linear Regression"
   ]
  },
  {
   "cell_type": "code",
   "execution_count": 27,
   "metadata": {},
   "outputs": [
    {
     "name": "stdout",
     "output_type": "stream",
     "text": [
      "[9.49292895e+00 1.57833396e+01 6.44761510e+00 1.19845309e+00\n",
      " 1.34230804e+01 2.87972302e+02 1.23361950e+01 2.91819169e+01\n",
      " 1.46826736e+01 9.41493781e+00 9.43469647e+00 2.04288867e+01\n",
      " 2.05527028e+01 1.59598175e+01 1.63675829e+01 3.36015714e+01\n",
      " 1.37001695e+01 1.44142115e+01 9.31221116e+00 1.22462359e+01\n",
      " 1.04337783e+01 1.13128450e+01 1.18933100e+01 1.49043475e+01\n",
      " 1.96551454e+01 1.43727347e+01 1.39843396e+01 9.91178925e+00\n",
      " 7.11270596e-01 4.02840333e+01 2.11236308e+01 1.57875835e+01\n",
      " 1.12776513e+01 1.13949445e+01 3.15928593e+01 1.36562787e+01\n",
      " 9.24767790e-01 2.84552284e+01 1.54457463e+01 2.41936224e+00\n",
      " 9.34403503e+00 1.31986988e+01 9.96952399e+00 1.90326263e+01\n",
      " 1.65176428e+01 5.58840753e+00 1.47677759e+00 1.74284258e+01\n",
      " 2.74917579e+01 1.83530150e+01 2.44398302e+02 1.83388257e+01\n",
      " 3.08041156e+01 1.33809816e+01 2.86085017e+01 1.88061294e+00\n",
      " 1.48832295e+01 1.49361907e+01 3.19934239e+01 2.68690176e+02\n",
      " 1.28360793e+01 1.65731778e+01 1.57856633e+01 3.11112981e+00\n",
      " 2.78018998e+01 1.86665240e+01 1.64493876e+01 1.06917868e+00\n",
      " 1.50038150e+01 1.43861440e+01 2.53329773e+01 1.27889598e+01\n",
      " 1.70200189e+01 1.40103015e+00 1.57814680e+01 2.68089677e+02\n",
      " 3.09163206e+01 1.39505976e+01 1.36244261e+01 1.58675402e+01\n",
      " 1.54411376e+01 1.33115603e+00 3.08095213e+01 3.46701473e+01\n",
      " 1.70095220e+01 1.73972684e+01 1.65645729e+01 2.17445065e+01\n",
      " 1.60713002e+00 3.38567556e-01 1.00470728e+01 3.21248036e+01\n",
      " 1.65901140e+00 2.25396952e+01 1.29764604e+01 6.94510258e+00\n",
      " 9.91080536e+00 1.50729906e+01 2.84087038e+01 1.82720661e+01\n",
      " 9.16823988e+00 3.98007756e+01 1.24007146e+01 6.46526839e+02\n",
      " 1.35696898e+01 2.70455598e+01 1.37567113e+01 2.47492180e+02\n",
      " 1.39749258e+01 2.72141211e+01 3.08814612e+01 1.53896442e+01\n",
      " 1.82497119e+01 6.92753691e+00 2.82098670e+01 2.98373722e+01\n",
      " 9.83525498e+00 2.29555429e+01 2.66546327e+01 1.77411320e+01\n",
      " 1.40096848e+01 6.00582428e+00 2.03754751e+01 9.70028798e+00\n",
      " 2.97260048e+01 1.38303072e+00 1.15667113e+01 5.32713661e+00\n",
      " 1.20412405e+01 1.47076998e+01 1.61949871e+00 1.42834510e+01\n",
      " 1.72412284e+01 3.76225266e+02 2.26510354e+01 3.05394884e+01\n",
      " 3.18539001e+01 1.62846905e+01 2.12570463e+01 1.52633279e+01\n",
      " 5.18651978e+02 3.20742983e+01 2.33630015e+01 1.06854845e+01\n",
      " 1.05264402e+01 1.55794069e+01 2.05504184e+00 1.92175271e+01\n",
      " 1.11720605e+01 5.95709682e+00 1.20435417e+01 2.88796208e+01\n",
      " 2.22065455e+01 2.14535316e+01 9.73821306e+00 1.34097468e+01\n",
      " 3.10137485e+02 1.29647357e+01 1.03259658e+01 1.21135318e+01\n",
      " 6.23473557e+02 3.17614606e+01 1.05361563e+01 5.89061260e+00\n",
      " 3.24439094e+01 1.84592299e+01 2.13611434e+01 2.26696877e+01\n",
      " 1.15283037e+00 1.68408173e+01 1.79775508e+01 2.83997337e+01\n",
      " 2.78026178e+01 2.04401361e+01 3.28645338e+01 2.12328435e+01\n",
      " 1.53697311e+01 1.03555778e+01 3.33037272e+02 5.13698920e+01\n",
      " 2.69874773e+00 7.68105820e-01 2.71228165e+01 1.62756833e+01\n",
      " 1.37619922e+01 1.41516886e+01 3.08939122e+01 4.58066070e+00\n",
      " 3.01768426e+02 9.38686748e+00 1.04151882e+01 1.66406710e+01\n",
      " 1.69562906e+01 8.96356036e+00 2.26207364e+01 1.30873339e+00\n",
      " 4.46726513e+01 1.19955457e+01 7.89132514e+00 9.96223355e+00\n",
      " 1.54447724e+01 1.48418336e+01 2.23487322e+01 3.23276161e+02\n",
      " 1.04402713e+01 2.64114596e+01 1.68116441e+01 1.46674506e+01\n",
      " 1.98091531e+01 3.53304814e+02 3.20855100e+02 1.60322495e+01\n",
      " 2.81324741e+02 3.07524445e+01 1.72601557e+01 2.99413402e+02\n",
      " 1.90516424e+01 1.02703071e+01 2.38760919e+02 2.82819600e+01\n",
      " 1.10747203e+01 1.62675696e+01 1.43399284e+01 7.27690520e-01\n",
      " 2.38082321e+01 1.20058218e+01 6.38093196e+00 1.64607441e+01\n",
      " 2.63262172e+00 1.78933716e+00 1.75368590e+01 1.23850861e+01\n",
      " 5.92059588e+00 3.15391084e+01 2.73599980e+01 2.29627501e+01\n",
      " 5.50805810e+00 1.49174055e+01 1.73212471e+01 9.93973183e+00\n",
      " 2.26506530e+01 2.20317877e+01 2.74683798e+01 1.38233026e+01\n",
      " 1.93816505e+01 3.04681020e+02 8.99192393e+00 1.02702533e+01\n",
      " 5.83792409e+00 8.35320849e+00 1.02946268e+01 2.07268158e+00\n",
      " 2.80349175e+01 1.58661305e+00 4.12487438e+02 1.86019407e+01\n",
      " 2.15560424e+01 1.64022706e+00 2.96334079e+01 2.88820866e+01\n",
      " 1.78077381e+01 6.69375235e+01 1.66378733e+01 6.18005072e+00\n",
      " 1.57638320e+01 1.67518311e+01 2.74410007e+02 3.46667589e+01\n",
      " 2.75525019e+02 1.10674696e+01 1.37812354e+01 1.55404643e+01\n",
      " 1.92922162e+01 1.44717810e+01 3.06564305e+01 5.29389558e+00\n",
      " 1.93310398e+01 2.19429355e+01 3.62588842e+01 1.22608308e+01\n",
      " 1.59316062e+01 1.90806135e+01 2.11211720e+01 1.30462626e+01\n",
      " 1.31210019e+00 5.80006889e+02 1.19873348e+01 1.79089906e+01\n",
      " 2.54981333e+02 1.00072143e+01 1.70649693e+01 3.08904939e+01\n",
      " 3.14302037e+01 1.01002556e+01 1.65193204e+00 6.78917886e+00\n",
      " 6.51181318e+00 1.28309261e+01 3.04972338e+01 3.32153938e+01\n",
      " 2.34230677e+01 2.19318059e+01 1.79658047e+01 5.36764699e+00\n",
      " 3.14737884e+01 2.29854086e+01 2.72383389e+01 2.11791016e+00\n",
      " 9.57459201e+00 1.47580099e+01 2.22597342e+01 3.74523989e+02\n",
      " 1.20388080e+01 1.95155313e+02 1.14483717e+01 1.53446136e+01\n",
      " 1.08415203e+01 1.78323936e+01 1.58344652e+01 1.40756785e+00\n",
      " 1.15184063e+00 8.70902332e+00 1.31848061e+01 2.01113205e+01\n",
      " 3.38733330e+02 1.65511229e+01 3.00572119e+01 2.91419608e+01\n",
      " 9.69290384e+00 1.40680668e+01 2.33212640e+01 2.76095872e+01\n",
      " 1.75161487e+01 9.98707799e+00 2.87771317e+01 2.50330649e+01\n",
      " 2.98985756e+02 1.15462573e+01 1.01288036e+01 6.74181252e+00\n",
      " 6.40306747e+00 1.38377652e+01 1.14509489e+01 2.76965410e+01\n",
      " 2.17464473e+01 3.27054716e+01 1.38521556e+01 8.93348155e+00\n",
      " 4.94414520e+02 6.24447549e+02 2.41479913e+02 1.82144686e+01\n",
      " 9.17602660e-01 1.41647984e+01 2.37149397e+01 1.46115296e+01\n",
      " 4.55118105e+01 1.52500063e+00 3.46874171e+02 1.45272568e+00\n",
      " 2.76724163e+01]\n"
     ]
    }
   ],
   "source": [
    "model = LinearRegression()\n",
    "\n",
    "model.fit(x_train, y_train)\n",
    "\n",
    "y_pred = model.predict(x_test)\n",
    "print(y_pred)\n",
    "with open('Binance.pkl','wb') as file:\n",
    "    pickle.dump(model,file)"
   ]
  },
  {
   "attachments": {},
   "cell_type": "markdown",
   "metadata": {},
   "source": [
    "MODEL EVALUATION"
   ]
  },
  {
   "cell_type": "code",
   "execution_count": 9,
   "metadata": {},
   "outputs": [
    {
     "name": "stdout",
     "output_type": "stream",
     "text": [
      "0.9992794967151306\n",
      "0.8022037295717828\n"
     ]
    }
   ],
   "source": [
    "print(r2_score(y_test,y_pred))\n",
    "print(mean_absolute_error(y_test,y_pred))"
   ]
  }
 ],
 "metadata": {
  "kernelspec": {
   "display_name": "Python 3",
   "language": "python",
   "name": "python3"
  },
  "language_info": {
   "codemirror_mode": {
    "name": "ipython",
    "version": 3
   },
   "file_extension": ".py",
   "mimetype": "text/x-python",
   "name": "python",
   "nbconvert_exporter": "python",
   "pygments_lexer": "ipython3",
   "version": "3.9.7"
  },
  "orig_nbformat": 4,
  "vscode": {
   "interpreter": {
    "hash": "ae2f4dfb1c3f9c2c4c2bd7cdeea58f48769a44aab9acceb2e0c73ee45c52ba41"
   }
  }
 },
 "nbformat": 4,
 "nbformat_minor": 2
}
